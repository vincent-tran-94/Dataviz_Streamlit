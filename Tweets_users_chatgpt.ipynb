{
 "cells": [
  {
   "cell_type": "markdown",
   "metadata": {},
   "source": [
    "## Load librairies "
   ]
  },
  {
   "cell_type": "code",
   "execution_count": 1,
   "metadata": {},
   "outputs": [],
   "source": [
    "#Librairie de traiement de données\n",
    "import pandas as pd\n",
    "import numpy as np\n",
    "\n",
    "#Librairies pour extraction de données (Regex,Stopwords,Lemmatisation)\n",
    "import re\n",
    "from spacy.lang.en.stop_words import STOP_WORDS as en_stop #Spacy stopwords\n",
    "from nltk.stem import WordNetLemmatizer \n",
    "import nltk\n",
    "\n",
    "#Librairies pour la visualisation de données \n",
    "import matplotlib.pyplot as plt\n",
    "import plotly.express as px\n",
    "from wordcloud import WordCloud\n",
    "\n",
    "#Ignore les warning en cas de problème de traiement\n",
    "import warnings\n",
    "warnings.filterwarnings(\"ignore\")"
   ]
  },
  {
   "cell_type": "code",
   "execution_count": 2,
   "metadata": {},
   "outputs": [
    {
     "name": "stderr",
     "output_type": "stream",
     "text": [
      "[nltk_data] Downloading package wordnet to\n",
      "[nltk_data]     C:\\Users\\Vincent\\AppData\\Roaming\\nltk_data...\n",
      "[nltk_data]   Package wordnet is already up-to-date!\n"
     ]
    },
    {
     "data": {
      "text/plain": [
       "True"
      ]
     },
     "execution_count": 2,
     "metadata": {},
     "output_type": "execute_result"
    }
   ],
   "source": [
    "#WordNet NLTK module to find the meanings of words, synonyms, antonyms, and more.\n",
    "nltk.download('wordnet')"
   ]
  },
  {
   "cell_type": "markdown",
   "metadata": {},
   "source": [
    "## Load dataset\n",
    "\n",
    "Face aux nombreuses avancées dans le domaine de l'intelligence artificielle, ChatGPT se distingue par sa polyvalence et son utilité dans divers secteurs. Qu'il s'agisse de produire des contenus personnalisés tels que des e-mails, des poèmes ou des extraits de code, ou encore de transformer les processus de travail dans les entreprises et les outils éducatifs, son impact est indéniable.\n",
    "\n",
    "En nous intéressant à un sujet d'actualité majeur en 2023, nous avons choisi de focaliser notre attention sur ChatGPT à travers l'analyse de Twitter. Ce projet vise à étudier environ 300 000 tweets relatifs à cet outil révolutionnaire et à développer une application Streamlit. L'objectif est d'explorer la curiosité et l'engouement des utilisateurs pour ChatGPT, tout en mettant en lumière les facteurs clés qui influencent son évolution future.\n",
    "\n",
    "Ce jeu de données offre une opportunité unique de comprendre l'opinion publique, les tendances émergentes et les applications potentielles de ChatGPT. En examinant des aspects tels que le volume de tweets, le sentiment, l'engagement des utilisateurs et l'influence des événements clés autour de l'IA, il fournit des insights précieux. Ces analyses peuvent guider les entreprises, les chercheurs et les décideurs dans leurs choix stratégiques et contribuer à orienter le développement des technologies conversationnelles basées sur l'IA."
   ]
  },
  {
   "cell_type": "markdown",
   "metadata": {},
   "source": [
    "*https://huggingface.co/datasets/deberain/ChatGPT-Tweets Dataset utilisé pour les tweets*\n",
    "\n",
    "Articles de presse qui sont utilisés à l'origine de la source de données:   \n",
    "\n",
    "*https://medium.com/@ka2612/effortlessly-scraping-massive-twitter-data-with-snscrape-a-guide-to-scraping-1000-000-tweets-in-d01c38e82d18 Effortlessly Scraping Massive Twitter Data with snscrape: A Guide to Scraping 1000,000 Tweets in Less than a Day*\n",
    "\n",
    "*https://medium.com/@ka2612/the-chatgpt-phenomenon-unraveling-insights-from-500-000-tweets-using-nlp-8ec0ad8ffd37  Cracking the ChatGPT Code: A Deep Dive into 500,000 Tweets using Advanced NLP Techniques*"
   ]
  },
  {
   "cell_type": "code",
   "execution_count": 3,
   "metadata": {},
   "outputs": [],
   "source": [
    "# On souhaitera d'importer notre jeu de données \n",
    "\n",
    "#Décommenter si vous voulez récupérer le jeu de données sur le site de Hugging Face avec Pandas et de convertir en fichier CSV\n",
    "#download = pd.read_parquet(\"hf://datasets/deberain/ChatGPT-Tweets/data/train-00000-of-00001-c77acc9ef8da1d50.parquet\")\n",
    "#download.to_csv('data/tweets_users_chatgpt.csv',index=False)"
   ]
  },
  {
   "cell_type": "code",
   "execution_count": 4,
   "metadata": {},
   "outputs": [],
   "source": [
    "#Lecture sur fichier CSV\n",
    "df = pd.read_csv('app/data/input_csv/tweets_users_chatgpt.csv')"
   ]
  },
  {
   "cell_type": "code",
   "execution_count": 5,
   "metadata": {},
   "outputs": [],
   "source": [
    "#Lecture pour un deuxième dataset pour comparer avec notre WordCloud\n",
    "df2 = pd.read_csv(\"app/data/input_csv/Twitter_article.csv\")"
   ]
  },
  {
   "cell_type": "markdown",
   "metadata": {},
   "source": [
    "### Analyse descriptive du premier Dataset "
   ]
  },
  {
   "cell_type": "code",
   "execution_count": 6,
   "metadata": {},
   "outputs": [
    {
     "data": {
      "text/html": [
       "<div>\n",
       "<style scoped>\n",
       "    .dataframe tbody tr th:only-of-type {\n",
       "        vertical-align: middle;\n",
       "    }\n",
       "\n",
       "    .dataframe tbody tr th {\n",
       "        vertical-align: top;\n",
       "    }\n",
       "\n",
       "    .dataframe thead th {\n",
       "        text-align: right;\n",
       "    }\n",
       "</style>\n",
       "<table border=\"1\" class=\"dataframe\">\n",
       "  <thead>\n",
       "    <tr style=\"text-align: right;\">\n",
       "      <th></th>\n",
       "      <th>Date</th>\n",
       "      <th>Tweet</th>\n",
       "      <th>Url</th>\n",
       "      <th>User</th>\n",
       "      <th>UserCreated</th>\n",
       "      <th>UserVerified</th>\n",
       "      <th>UserFollowers</th>\n",
       "      <th>UserFriends</th>\n",
       "      <th>Retweets</th>\n",
       "      <th>Likes</th>\n",
       "      <th>Location</th>\n",
       "      <th>UserDescription</th>\n",
       "    </tr>\n",
       "  </thead>\n",
       "  <tbody>\n",
       "    <tr>\n",
       "      <th>0</th>\n",
       "      <td>2023-02-24 07:59:26+00:00</td>\n",
       "      <td>How to hire 100x more productive team members ...</td>\n",
       "      <td>https://twitter.com/smnishad/status/1629028212...</td>\n",
       "      <td>smnishad</td>\n",
       "      <td>2009-03-04 15:50:52+00:00</td>\n",
       "      <td>False</td>\n",
       "      <td>2524.0</td>\n",
       "      <td>4966.0</td>\n",
       "      <td>0.0</td>\n",
       "      <td>0.0</td>\n",
       "      <td>New Delhi, India</td>\n",
       "      <td>Account Planning at Adfactors Advertising</td>\n",
       "    </tr>\n",
       "    <tr>\n",
       "      <th>1</th>\n",
       "      <td>2023-02-24 07:59:23+00:00</td>\n",
       "      <td>Chatgtp breakfast about to start #ChatGPT #fut...</td>\n",
       "      <td>https://twitter.com/SevenKingsSch/status/16290...</td>\n",
       "      <td>SevenKingsSch</td>\n",
       "      <td>2010-05-06 09:05:00+00:00</td>\n",
       "      <td>False</td>\n",
       "      <td>1322.0</td>\n",
       "      <td>174.0</td>\n",
       "      <td>0.0</td>\n",
       "      <td>0.0</td>\n",
       "      <td>Ilford, Redbridge</td>\n",
       "      <td>All Through. Outstanding. World Class. See Six...</td>\n",
       "    </tr>\n",
       "    <tr>\n",
       "      <th>2</th>\n",
       "      <td>2023-02-24 07:59:17+00:00</td>\n",
       "      <td>@PiCoreTeam Pi network will be one of the supe...</td>\n",
       "      <td>https://twitter.com/jad_alrabe3/status/1629028...</td>\n",
       "      <td>jad_alrabe3</td>\n",
       "      <td>2012-03-05 03:41:41+00:00</td>\n",
       "      <td>False</td>\n",
       "      <td>311.0</td>\n",
       "      <td>1822.0</td>\n",
       "      <td>0.0</td>\n",
       "      <td>0.0</td>\n",
       "      <td>Irbid, jordan</td>\n",
       "      <td>أنا وقلبي وعَقلٌ لم يَسَع حُلُمي\\nيا ربُّ هيِّ...</td>\n",
       "    </tr>\n",
       "    <tr>\n",
       "      <th>3</th>\n",
       "      <td>2023-02-24 07:58:54+00:00</td>\n",
       "      <td>Build your first $100K/Year Start-up in just 2...</td>\n",
       "      <td>https://twitter.com/yournotionguy/status/16290...</td>\n",
       "      <td>yournotionguy</td>\n",
       "      <td>2023-02-09 13:22:56+00:00</td>\n",
       "      <td>False</td>\n",
       "      <td>43.0</td>\n",
       "      <td>10.0</td>\n",
       "      <td>0.0</td>\n",
       "      <td>0.0</td>\n",
       "      <td>NaN</td>\n",
       "      <td>🤓 Productivity nerd\\n🗒️ Daily Notion tips &amp; tr...</td>\n",
       "    </tr>\n",
       "    <tr>\n",
       "      <th>4</th>\n",
       "      <td>2023-02-24 07:58:45+00:00</td>\n",
       "      <td>Disappointed with @Samsung. My TV stopped work...</td>\n",
       "      <td>https://twitter.com/sbmza/status/1629028042340...</td>\n",
       "      <td>sbmza</td>\n",
       "      <td>2009-11-28 06:45:15+00:00</td>\n",
       "      <td>False</td>\n",
       "      <td>175.0</td>\n",
       "      <td>1644.0</td>\n",
       "      <td>0.0</td>\n",
       "      <td>0.0</td>\n",
       "      <td>NaN</td>\n",
       "      <td>Vires in Numeris</td>\n",
       "    </tr>\n",
       "  </tbody>\n",
       "</table>\n",
       "</div>"
      ],
      "text/plain": [
       "                        Date  \\\n",
       "0  2023-02-24 07:59:26+00:00   \n",
       "1  2023-02-24 07:59:23+00:00   \n",
       "2  2023-02-24 07:59:17+00:00   \n",
       "3  2023-02-24 07:58:54+00:00   \n",
       "4  2023-02-24 07:58:45+00:00   \n",
       "\n",
       "                                               Tweet  \\\n",
       "0  How to hire 100x more productive team members ...   \n",
       "1  Chatgtp breakfast about to start #ChatGPT #fut...   \n",
       "2  @PiCoreTeam Pi network will be one of the supe...   \n",
       "3  Build your first $100K/Year Start-up in just 2...   \n",
       "4  Disappointed with @Samsung. My TV stopped work...   \n",
       "\n",
       "                                                 Url           User  \\\n",
       "0  https://twitter.com/smnishad/status/1629028212...       smnishad   \n",
       "1  https://twitter.com/SevenKingsSch/status/16290...  SevenKingsSch   \n",
       "2  https://twitter.com/jad_alrabe3/status/1629028...    jad_alrabe3   \n",
       "3  https://twitter.com/yournotionguy/status/16290...  yournotionguy   \n",
       "4  https://twitter.com/sbmza/status/1629028042340...          sbmza   \n",
       "\n",
       "                 UserCreated UserVerified  UserFollowers  UserFriends  \\\n",
       "0  2009-03-04 15:50:52+00:00        False         2524.0       4966.0   \n",
       "1  2010-05-06 09:05:00+00:00        False         1322.0        174.0   \n",
       "2  2012-03-05 03:41:41+00:00        False          311.0       1822.0   \n",
       "3  2023-02-09 13:22:56+00:00        False           43.0         10.0   \n",
       "4  2009-11-28 06:45:15+00:00        False          175.0       1644.0   \n",
       "\n",
       "  Retweets Likes           Location  \\\n",
       "0      0.0   0.0   New Delhi, India   \n",
       "1      0.0   0.0  Ilford, Redbridge   \n",
       "2      0.0   0.0     Irbid, jordan    \n",
       "3      0.0   0.0                NaN   \n",
       "4      0.0   0.0                NaN   \n",
       "\n",
       "                                     UserDescription  \n",
       "0          Account Planning at Adfactors Advertising  \n",
       "1  All Through. Outstanding. World Class. See Six...  \n",
       "2  أنا وقلبي وعَقلٌ لم يَسَع حُلُمي\\nيا ربُّ هيِّ...  \n",
       "3  🤓 Productivity nerd\\n🗒️ Daily Notion tips & tr...  \n",
       "4                                   Vires in Numeris  "
      ]
     },
     "execution_count": 6,
     "metadata": {},
     "output_type": "execute_result"
    }
   ],
   "source": [
    "df.head()"
   ]
  },
  {
   "cell_type": "code",
   "execution_count": 7,
   "metadata": {},
   "outputs": [
    {
     "name": "stdout",
     "output_type": "stream",
     "text": [
      "<class 'pandas.core.frame.DataFrame'>\n",
      "RangeIndex: 305432 entries, 0 to 305431\n",
      "Data columns (total 12 columns):\n",
      " #   Column           Non-Null Count   Dtype  \n",
      "---  ------           --------------   -----  \n",
      " 0   Date             305426 non-null  object \n",
      " 1   Tweet            305426 non-null  object \n",
      " 2   Url              305401 non-null  object \n",
      " 3   User             305401 non-null  object \n",
      " 4   UserCreated      305401 non-null  object \n",
      " 5   UserVerified     305401 non-null  object \n",
      " 6   UserFollowers    305401 non-null  float64\n",
      " 7   UserFriends      305401 non-null  float64\n",
      " 8   Retweets         305401 non-null  object \n",
      " 9   Likes            305401 non-null  object \n",
      " 10  Location         229012 non-null  object \n",
      " 11  UserDescription  290655 non-null  object \n",
      "dtypes: float64(2), object(10)\n",
      "memory usage: 28.0+ MB\n"
     ]
    }
   ],
   "source": [
    "df.info()"
   ]
  },
  {
   "cell_type": "markdown",
   "metadata": {},
   "source": [
    "### Analyse descriptive du deuxième Dataset"
   ]
  },
  {
   "cell_type": "code",
   "execution_count": 8,
   "metadata": {},
   "outputs": [
    {
     "data": {
      "text/html": [
       "<div>\n",
       "<style scoped>\n",
       "    .dataframe tbody tr th:only-of-type {\n",
       "        vertical-align: middle;\n",
       "    }\n",
       "\n",
       "    .dataframe tbody tr th {\n",
       "        vertical-align: top;\n",
       "    }\n",
       "\n",
       "    .dataframe thead th {\n",
       "        text-align: right;\n",
       "    }\n",
       "</style>\n",
       "<table border=\"1\" class=\"dataframe\">\n",
       "  <thead>\n",
       "    <tr style=\"text-align: right;\">\n",
       "      <th></th>\n",
       "      <th>date</th>\n",
       "      <th>id</th>\n",
       "      <th>content</th>\n",
       "      <th>username</th>\n",
       "      <th>like_count</th>\n",
       "      <th>retweet_count</th>\n",
       "    </tr>\n",
       "  </thead>\n",
       "  <tbody>\n",
       "    <tr>\n",
       "      <th>0</th>\n",
       "      <td>2023-03-29 22:58:21+00:00</td>\n",
       "      <td>1641213230730051584</td>\n",
       "      <td>Free AI marketing and automation tools, strate...</td>\n",
       "      <td>RealProfitPros</td>\n",
       "      <td>0.0</td>\n",
       "      <td>0.0</td>\n",
       "    </tr>\n",
       "    <tr>\n",
       "      <th>1</th>\n",
       "      <td>2023-03-29 22:58:18+00:00</td>\n",
       "      <td>1641213218520481805</td>\n",
       "      <td>@MecoleHardman4 Chat GPT says it’s 15. 😂</td>\n",
       "      <td>AmyLouWho321</td>\n",
       "      <td>0.0</td>\n",
       "      <td>0.0</td>\n",
       "    </tr>\n",
       "    <tr>\n",
       "      <th>2</th>\n",
       "      <td>2023-03-29 22:57:53+00:00</td>\n",
       "      <td>1641213115684536323</td>\n",
       "      <td>https://t.co/FjJSprt0te - Chat with any PDF!\\n...</td>\n",
       "      <td>yjleon1976</td>\n",
       "      <td>0.0</td>\n",
       "      <td>0.0</td>\n",
       "    </tr>\n",
       "    <tr>\n",
       "      <th>3</th>\n",
       "      <td>2023-03-29 22:57:52+00:00</td>\n",
       "      <td>1641213110915571715</td>\n",
       "      <td>AI muses: \"In the court of life, we must all f...</td>\n",
       "      <td>ChatGPT_Thinks</td>\n",
       "      <td>0.0</td>\n",
       "      <td>0.0</td>\n",
       "    </tr>\n",
       "    <tr>\n",
       "      <th>4</th>\n",
       "      <td>2023-03-29 22:57:26+00:00</td>\n",
       "      <td>1641213003260633088</td>\n",
       "      <td>Most people haven't heard of Chat GPT yet.\\nFi...</td>\n",
       "      <td>nikocosmonaut</td>\n",
       "      <td>0.0</td>\n",
       "      <td>0.0</td>\n",
       "    </tr>\n",
       "  </tbody>\n",
       "</table>\n",
       "</div>"
      ],
      "text/plain": [
       "                        date                   id  \\\n",
       "0  2023-03-29 22:58:21+00:00  1641213230730051584   \n",
       "1  2023-03-29 22:58:18+00:00  1641213218520481805   \n",
       "2  2023-03-29 22:57:53+00:00  1641213115684536323   \n",
       "3  2023-03-29 22:57:52+00:00  1641213110915571715   \n",
       "4  2023-03-29 22:57:26+00:00  1641213003260633088   \n",
       "\n",
       "                                             content        username  \\\n",
       "0  Free AI marketing and automation tools, strate...  RealProfitPros   \n",
       "1           @MecoleHardman4 Chat GPT says it’s 15. 😂    AmyLouWho321   \n",
       "2  https://t.co/FjJSprt0te - Chat with any PDF!\\n...      yjleon1976   \n",
       "3  AI muses: \"In the court of life, we must all f...  ChatGPT_Thinks   \n",
       "4  Most people haven't heard of Chat GPT yet.\\nFi...   nikocosmonaut   \n",
       "\n",
       "   like_count  retweet_count  \n",
       "0         0.0            0.0  \n",
       "1         0.0            0.0  \n",
       "2         0.0            0.0  \n",
       "3         0.0            0.0  \n",
       "4         0.0            0.0  "
      ]
     },
     "execution_count": 8,
     "metadata": {},
     "output_type": "execute_result"
    }
   ],
   "source": [
    "df2.head()"
   ]
  },
  {
   "cell_type": "code",
   "execution_count": 9,
   "metadata": {},
   "outputs": [
    {
     "name": "stdout",
     "output_type": "stream",
     "text": [
      "<class 'pandas.core.frame.DataFrame'>\n",
      "RangeIndex: 500036 entries, 0 to 500035\n",
      "Data columns (total 6 columns):\n",
      " #   Column         Non-Null Count   Dtype  \n",
      "---  ------         --------------   -----  \n",
      " 0   date           500036 non-null  object \n",
      " 1   id             500030 non-null  object \n",
      " 2   content        500030 non-null  object \n",
      " 3   username       500002 non-null  object \n",
      " 4   like_count     499974 non-null  float64\n",
      " 5   retweet_count  499974 non-null  float64\n",
      "dtypes: float64(2), object(4)\n",
      "memory usage: 22.9+ MB\n"
     ]
    }
   ],
   "source": [
    "df2.info()"
   ]
  },
  {
   "cell_type": "markdown",
   "metadata": {},
   "source": [
    "#### Dimensions de la DataFrame"
   ]
  },
  {
   "cell_type": "code",
   "execution_count": 10,
   "metadata": {},
   "outputs": [
    {
     "name": "stdout",
     "output_type": "stream",
     "text": [
      "Length:  305432\n",
      "Shape:  (305432, 12)\n"
     ]
    }
   ],
   "source": [
    "print(\"Length: \",len(df))\n",
    "print(\"Shape: \",df.shape)"
   ]
  },
  {
   "cell_type": "markdown",
   "metadata": {},
   "source": [
    "#### Description statistique de likes et de retweets"
   ]
  },
  {
   "cell_type": "code",
   "execution_count": 11,
   "metadata": {},
   "outputs": [
    {
     "name": "stdout",
     "output_type": "stream",
     "text": [
      "           Likes  Retweets\n",
      "count   305401.0  305401.0\n",
      "unique    1076.0     500.0\n",
      "top          0.0       0.0\n",
      "freq     88795.0  145501.0\n"
     ]
    }
   ],
   "source": [
    "# Getting descriptive statistics on likes and retweets:\n",
    "print(df[['Likes', 'Retweets']].describe())"
   ]
  },
  {
   "cell_type": "markdown",
   "metadata": {},
   "source": [
    "#### Liste des valeurs uniques pour chaque colonne"
   ]
  },
  {
   "cell_type": "code",
   "execution_count": 12,
   "metadata": {},
   "outputs": [
    {
     "name": "stdout",
     "output_type": "stream",
     "text": [
      "Date : 294817\n",
      "Tweet : 303269\n",
      "Url : 305401\n",
      "User : 144306\n",
      "UserCreated : 144272\n",
      "UserVerified : 6\n",
      "UserFollowers : 17993\n",
      "UserFriends : 8166\n",
      "Retweets : 500\n",
      "Likes : 1076\n",
      "Location : 33739\n",
      "UserDescription : 133514\n"
     ]
    }
   ],
   "source": [
    "for col in df.columns:\n",
    "    print(col, \":\", df[col].nunique())"
   ]
  },
  {
   "cell_type": "markdown",
   "metadata": {},
   "source": [
    "##### Nombre de mots utilisés en moyenne pour un tweet"
   ]
  },
  {
   "cell_type": "code",
   "execution_count": 13,
   "metadata": {},
   "outputs": [
    {
     "name": "stdout",
     "output_type": "stream",
     "text": [
      "Average Tweet length is: 145.79%\n"
     ]
    }
   ],
   "source": [
    "# Average tweet length in words\n",
    "count = 0\n",
    "for i in df['Tweet']:\n",
    "    count += len(''.join(str(i).split()))\n",
    "avg_tweet_length = count / len(df['Tweet'])\n",
    "print(f\"Average Tweet length is: {round(avg_tweet_length,2)}%\")"
   ]
  },
  {
   "cell_type": "markdown",
   "metadata": {},
   "source": [
    "### Data Preprocessing du Dataset"
   ]
  },
  {
   "cell_type": "markdown",
   "metadata": {},
   "source": [
    "##### Enlever  les valeurs manquantes et extraire les données"
   ]
  },
  {
   "cell_type": "code",
   "execution_count": 14,
   "metadata": {},
   "outputs": [
    {
     "name": "stdout",
     "output_type": "stream",
     "text": [
      "Date                   6\n",
      "Tweet                  6\n",
      "Url                   31\n",
      "User                  31\n",
      "UserCreated           31\n",
      "UserVerified          31\n",
      "UserFollowers         31\n",
      "UserFriends           31\n",
      "Retweets              31\n",
      "Likes                 31\n",
      "Location           76420\n",
      "UserDescription    14777\n",
      "dtype: int64\n"
     ]
    }
   ],
   "source": [
    "#Vérification des valeurs manquantes sur notre dataset\n",
    "print(df.isnull().sum())"
   ]
  },
  {
   "cell_type": "code",
   "execution_count": 15,
   "metadata": {},
   "outputs": [
    {
     "name": "stdout",
     "output_type": "stream",
     "text": [
      "date              0\n",
      "id                6\n",
      "content           6\n",
      "username         34\n",
      "like_count       62\n",
      "retweet_count    62\n",
      "dtype: int64\n"
     ]
    }
   ],
   "source": [
    "print(df2.isnull().sum())"
   ]
  },
  {
   "cell_type": "code",
   "execution_count": 16,
   "metadata": {},
   "outputs": [
    {
     "name": "stdout",
     "output_type": "stream",
     "text": [
      "Avant la suppression des données manquantes:  305432\n",
      "Après la suppression des données manquantes:  223775\n"
     ]
    }
   ],
   "source": [
    "print(\"Avant la suppression des données manquantes: \",len(df))\n",
    "df = df.dropna()\n",
    "print(\"Après la suppression des données manquantes: \",len(df))"
   ]
  },
  {
   "cell_type": "code",
   "execution_count": 17,
   "metadata": {},
   "outputs": [
    {
     "name": "stdout",
     "output_type": "stream",
     "text": [
      "Avant la suppression des données manquantes:  500036\n",
      "Après la suppression des données manquantes:  499974\n"
     ]
    }
   ],
   "source": [
    "print(\"Avant la suppression des données manquantes: \",len(df2))\n",
    "df2 = df2.dropna()\n",
    "print(\"Après la suppression des données manquantes: \",len(df2))"
   ]
  },
  {
   "cell_type": "markdown",
   "metadata": {},
   "source": [
    "#### Convertir les dates en objet pour la date du tweet et la création du user"
   ]
  },
  {
   "cell_type": "code",
   "execution_count": 18,
   "metadata": {},
   "outputs": [
    {
     "name": "stdout",
     "output_type": "stream",
     "text": [
      "Date départ pour la création des tweets:  2022-11-30\n",
      "Date de fin pour la création des tweets:  2023-02-24\n"
     ]
    }
   ],
   "source": [
    "# Convertir la date en objet de date\n",
    "df['Date'] = pd.to_datetime(df['Date'])\n",
    "\n",
    "# Extraire le composant date uniquement et affectez-le à la colonne « date »\n",
    "df['Date'] = df['Date'].dt.date\n",
    "\n",
    "# Vérification la portée des dates\n",
    "print(\"Date départ pour la création des tweets: \" ,df['Date'].min())\n",
    "print(\"Date de fin pour la création des tweets: \" ,df['Date'].max())"
   ]
  },
  {
   "cell_type": "code",
   "execution_count": 19,
   "metadata": {},
   "outputs": [
    {
     "name": "stdout",
     "output_type": "stream",
     "text": [
      "Date départ pour la création des utilisateurs:  2006-05-23\n",
      "Date de fin pour la création des utilisateurs: 2023-02-24\n"
     ]
    }
   ],
   "source": [
    "# Convertir la date en objet de date\n",
    "df['UserCreated'] = pd.to_datetime(df['UserCreated'])\n",
    "\n",
    "# Extraire le composant date uniquement et affectez-le à la colonne « date »\n",
    "df['UserCreated'] = df['UserCreated'].dt.date\n",
    "\n",
    "# Vérification la portée des dates\n",
    "print(\"Date départ pour la création des utilisateurs: \" ,df['UserCreated'].min())\n",
    "print(\"Date de fin pour la création des utilisateurs:\" ,df['UserCreated'].max())"
   ]
  },
  {
   "cell_type": "code",
   "execution_count": 20,
   "metadata": {},
   "outputs": [
    {
     "name": "stdout",
     "output_type": "stream",
     "text": [
      "Date départ pour la création des tweets:  2023-01-04\n",
      "Date de fin pour la création des tweets:  2023-03-29\n"
     ]
    }
   ],
   "source": [
    "# Convertir la date en objet de date\n",
    "df2['date'] = pd.to_datetime(df2['date'])\n",
    "\n",
    "# Extraire le composant date uniquement et affectez-le à la colonne « date »\n",
    "df2['date'] = df2['date'].dt.date\n",
    "\n",
    "# Vérification la portée des dates\n",
    "print(\"Date départ pour la création des tweets: \" ,df2['date'].min())\n",
    "print(\"Date de fin pour la création des tweets: \" ,df2['date'].max())"
   ]
  },
  {
   "cell_type": "code",
   "execution_count": 21,
   "metadata": {},
   "outputs": [
    {
     "name": "stdout",
     "output_type": "stream",
     "text": [
      "Date : 87\n",
      "Tweet : 222162\n",
      "Url : 223775\n",
      "User : 104806\n",
      "UserCreated : 5962\n",
      "UserVerified : 4\n",
      "UserFollowers : 16450\n",
      "UserFriends : 7907\n",
      "Retweets : 446\n",
      "Likes : 971\n",
      "Location : 32990\n",
      "UserDescription : 104323\n"
     ]
    }
   ],
   "source": [
    "for col in df.columns:\n",
    "    print(col, \":\", df[col].nunique())"
   ]
  },
  {
   "cell_type": "markdown",
   "metadata": {},
   "source": [
    "#### Extraction des tweets pour récupérer les hashtages et les mentions d'utilisateurs"
   ]
  },
  {
   "cell_type": "code",
   "execution_count": 22,
   "metadata": {},
   "outputs": [],
   "source": [
    "# Fonction pour extraire les hashtags\n",
    "def extract_hashtags(text):\n",
    "    text = text.lower()\n",
    "    text = re.findall(r\"#\\w+\", text)\n",
    "    return text\n",
    "\n",
    "# Fonction pour extraire les mentions d’utilisateurs\n",
    "def extract_mentions(text):\n",
    "    text = text.lower()\n",
    "    text = re.findall(r\"@\\w+\", text)\n",
    "    return text\n",
    "\n",
    "# Extraction des hashtags et des mentions\n",
    "df['hashtags'] = df['Tweet'].apply(lambda x: extract_hashtags(x))\n",
    "df['mentions'] = df['Tweet'].apply(lambda x: extract_mentions(x))"
   ]
  },
  {
   "cell_type": "markdown",
   "metadata": {},
   "source": [
    "## Nettoyage des tweets"
   ]
  },
  {
   "cell_type": "code",
   "execution_count": 23,
   "metadata": {},
   "outputs": [],
   "source": [
    "def remove_emoji():\n",
    "  regex_pattern = re.compile(pattern = \"[\"    #Pattern pour enlever les emojis\n",
    "          u\"\\U0001F600-\\U0001F64F\"  # emoticons\n",
    "          u\"\\U0001F300-\\U0001F5FF\"  # symbols & pictographs\n",
    "          u\"\\U0001F680-\\U0001F6FF\"  # transport & map symbols\n",
    "          u\"\\U0001F1E0-\\U0001F1FF\"  # flags (iOS)\n",
    "          u\"\\U00002702-\\U000027B0\"\n",
    "          u\"\\U00002702-\\U000027B0\"\n",
    "          u\"\\U000024C2-\\U0001F251\"\n",
    "          u\"\\U0001f926-\\U0001f937\"\n",
    "          u\"\\U00010000-\\U0010ffff\"\n",
    "          u\"\\u2640-\\u2642\" \n",
    "          u\"\\u2600-\\u2B55\"\n",
    "          u\"\\u200d\"\n",
    "          u\"\\u23cf\"\n",
    "          u\"\\u23e9\"\n",
    "          u\"\\u231a\"\n",
    "          u\"\\ufe0f\"  # dingbats\n",
    "          u\"\\u3030\"\n",
    "                            \"]+\", flags = re.UNICODE)\n",
    "  return regex_pattern\n",
    "\n",
    "def lematize(text):\n",
    "  lemmatizer = WordNetLemmatizer()\n",
    "  return \" \".join([lemmatizer.lemmatize(word) for word in text.split()])\n",
    "\n",
    "def remove_stopwords(text):\n",
    "  stopwords = \" \".join([word for word in str(text).split() if word not in en_stop]) #Spacy stopwords\n",
    "  return stopwords\n",
    "\n",
    "def remove_words(text):\n",
    "  liste_terme = [\"i\",\"x\",\"wa\", \"a\", \"ha\",\"ve\",\"it\", \"t\", \"u\", \"n\", \"s\", \"d\", \"l\", \"j\", \"y\", \"c\", \"e\", \"m\", \"h\", \"t\", \"cht\", \"lr\", \"oas\", \"qu\", \"ll\", \"yu\", \"an\", \"g\", \"don t\", \"we\", \"you\", \"me\", \"the\"]\n",
    "  return \" \".join([word for word in str(text).split() if word not in liste_terme])\n",
    "\n",
    "def final_preprocess(text): \n",
    "    text = str(text).lower()  #Mettre tout les mots en minuscule \n",
    "    text = re.sub(r'{link}', '',text) #Remove links \n",
    "    text = re.sub(r\"\\[video\\]\", '',text) #Remove videos\n",
    "    text = re.sub(r'&[a-z]+;', '',text) #Remove HTML references\n",
    "\n",
    "    text = re.sub(r'@\\w+', '', text) #Remove mention\n",
    "    text = re.sub(r'#\\w+', '', text) #Remove hashtag\n",
    "\n",
    "    text = re.sub(r'\\d+', '', text) #Remove numbers \n",
    "    text = re.sub(r'http\\S+', '',text) #Remove HTML\n",
    "    text = re.sub(r'www\\S+', '',text) #Remove HTML\n",
    "    text = re.sub(r'[^\\w\\s]+',' ',text) #Remove ponctuation et apostrophes\n",
    "    text = re.sub(r'\\s+',' ', text) #Remove new line characters\n",
    "    text = re.sub(remove_emoji(),'',text)  #Remove les emojis\n",
    "    \n",
    "    text = lematize(text) #Lemmatization\n",
    "    text = remove_words(text) #Remove custom words \n",
    "    text = remove_stopwords(text) #Remove stopwords\n",
    "    return text "
   ]
  },
  {
   "cell_type": "code",
   "execution_count": 24,
   "metadata": {},
   "outputs": [],
   "source": [
    "df['processed_tweet'] = df['Tweet'].apply(lambda x: final_preprocess(x))\n",
    "df['processed_userdescription'] = df['UserDescription'].apply(lambda x: final_preprocess(x))"
   ]
  },
  {
   "cell_type": "code",
   "execution_count": 25,
   "metadata": {},
   "outputs": [],
   "source": [
    "df2['processed_content']  = df2['content'].apply(lambda x: final_preprocess(x))"
   ]
  },
  {
   "cell_type": "markdown",
   "metadata": {},
   "source": [
    "Affichage du résultat après le preprocessing"
   ]
  },
  {
   "cell_type": "code",
   "execution_count": 26,
   "metadata": {},
   "outputs": [
    {
     "data": {
      "text/html": [
       "<div>\n",
       "<style scoped>\n",
       "    .dataframe tbody tr th:only-of-type {\n",
       "        vertical-align: middle;\n",
       "    }\n",
       "\n",
       "    .dataframe tbody tr th {\n",
       "        vertical-align: top;\n",
       "    }\n",
       "\n",
       "    .dataframe thead th {\n",
       "        text-align: right;\n",
       "    }\n",
       "</style>\n",
       "<table border=\"1\" class=\"dataframe\">\n",
       "  <thead>\n",
       "    <tr style=\"text-align: right;\">\n",
       "      <th></th>\n",
       "      <th>Tweet</th>\n",
       "      <th>processed_tweet</th>\n",
       "    </tr>\n",
       "  </thead>\n",
       "  <tbody>\n",
       "    <tr>\n",
       "      <th>0</th>\n",
       "      <td>How to hire 100x more productive team members ...</td>\n",
       "      <td>hire productive team member free interviewed h...</td>\n",
       "    </tr>\n",
       "    <tr>\n",
       "      <th>1</th>\n",
       "      <td>Chatgtp breakfast about to start #ChatGPT #fut...</td>\n",
       "      <td>chatgtp breakfast start</td>\n",
       "    </tr>\n",
       "    <tr>\n",
       "      <th>2</th>\n",
       "      <td>@PiCoreTeam Pi network will be one of the supe...</td>\n",
       "      <td>pi network super portal web world</td>\n",
       "    </tr>\n",
       "    <tr>\n",
       "      <th>5</th>\n",
       "      <td>The Future of Writing in a World of Artificial...</td>\n",
       "      <td>future writing world artificial intelligence</td>\n",
       "    </tr>\n",
       "    <tr>\n",
       "      <th>6</th>\n",
       "      <td>EdTech WORLD FORUM 2023,\\nhttps://t.co/y33ssL8...</td>\n",
       "      <td>edtech world forum london book</td>\n",
       "    </tr>\n",
       "  </tbody>\n",
       "</table>\n",
       "</div>"
      ],
      "text/plain": [
       "                                               Tweet  \\\n",
       "0  How to hire 100x more productive team members ...   \n",
       "1  Chatgtp breakfast about to start #ChatGPT #fut...   \n",
       "2  @PiCoreTeam Pi network will be one of the supe...   \n",
       "5  The Future of Writing in a World of Artificial...   \n",
       "6  EdTech WORLD FORUM 2023,\\nhttps://t.co/y33ssL8...   \n",
       "\n",
       "                                     processed_tweet  \n",
       "0  hire productive team member free interviewed h...  \n",
       "1                            chatgtp breakfast start  \n",
       "2                  pi network super portal web world  \n",
       "5       future writing world artificial intelligence  \n",
       "6                     edtech world forum london book  "
      ]
     },
     "execution_count": 26,
     "metadata": {},
     "output_type": "execute_result"
    }
   ],
   "source": [
    "df[[\"Tweet\",\"processed_tweet\"]].head()"
   ]
  },
  {
   "cell_type": "code",
   "execution_count": 27,
   "metadata": {},
   "outputs": [
    {
     "data": {
      "text/html": [
       "<div>\n",
       "<style scoped>\n",
       "    .dataframe tbody tr th:only-of-type {\n",
       "        vertical-align: middle;\n",
       "    }\n",
       "\n",
       "    .dataframe tbody tr th {\n",
       "        vertical-align: top;\n",
       "    }\n",
       "\n",
       "    .dataframe thead th {\n",
       "        text-align: right;\n",
       "    }\n",
       "</style>\n",
       "<table border=\"1\" class=\"dataframe\">\n",
       "  <thead>\n",
       "    <tr style=\"text-align: right;\">\n",
       "      <th></th>\n",
       "      <th>UserDescription</th>\n",
       "      <th>processed_userdescription</th>\n",
       "    </tr>\n",
       "  </thead>\n",
       "  <tbody>\n",
       "    <tr>\n",
       "      <th>0</th>\n",
       "      <td>Account Planning at Adfactors Advertising</td>\n",
       "      <td>account planning adfactors advertising</td>\n",
       "    </tr>\n",
       "    <tr>\n",
       "      <th>1</th>\n",
       "      <td>All Through. Outstanding. World Class. See Six...</td>\n",
       "      <td>outstanding world class sixthform seven king l...</td>\n",
       "    </tr>\n",
       "    <tr>\n",
       "      <th>2</th>\n",
       "      <td>أنا وقلبي وعَقلٌ لم يَسَع حُلُمي\\nيا ربُّ هيِّ...</td>\n",
       "      <td>أنا وقلبي وع قل لم ي س ع ح ل مي يا رب هي ئ لنا...</td>\n",
       "    </tr>\n",
       "    <tr>\n",
       "      <th>5</th>\n",
       "      <td>be the change enabler….</td>\n",
       "      <td>change enabler</td>\n",
       "    </tr>\n",
       "    <tr>\n",
       "      <th>6</th>\n",
       "      <td>Metaverse World in London UK is a leading meta...</td>\n",
       "      <td>metaverse world london uk leading metaverse hub</td>\n",
       "    </tr>\n",
       "  </tbody>\n",
       "</table>\n",
       "</div>"
      ],
      "text/plain": [
       "                                     UserDescription  \\\n",
       "0          Account Planning at Adfactors Advertising   \n",
       "1  All Through. Outstanding. World Class. See Six...   \n",
       "2  أنا وقلبي وعَقلٌ لم يَسَع حُلُمي\\nيا ربُّ هيِّ...   \n",
       "5                            be the change enabler….   \n",
       "6  Metaverse World in London UK is a leading meta...   \n",
       "\n",
       "                           processed_userdescription  \n",
       "0             account planning adfactors advertising  \n",
       "1  outstanding world class sixthform seven king l...  \n",
       "2  أنا وقلبي وع قل لم ي س ع ح ل مي يا رب هي ئ لنا...  \n",
       "5                                     change enabler  \n",
       "6    metaverse world london uk leading metaverse hub  "
      ]
     },
     "execution_count": 27,
     "metadata": {},
     "output_type": "execute_result"
    }
   ],
   "source": [
    "df[[\"UserDescription\",\"processed_userdescription\"]].head()"
   ]
  },
  {
   "cell_type": "markdown",
   "metadata": {},
   "source": [
    "Nombre de tweets uniques après le text preprocessing dans les colonnes processed tweet et processed userdescription "
   ]
  },
  {
   "cell_type": "code",
   "execution_count": 28,
   "metadata": {},
   "outputs": [
    {
     "name": "stdout",
     "output_type": "stream",
     "text": [
      "Colonne Tweet : 222162\n",
      "Colonne UserDescription : 104323\n",
      "Colonne processed_tweet : 200867\n",
      "Colonne processed_userdescription : 100715\n"
     ]
    }
   ],
   "source": [
    "print('Colonne Tweet', \":\", df['Tweet'].nunique())\n",
    "print('Colonne UserDescription', \":\", df['UserDescription'].nunique())\n",
    "\n",
    "print('Colonne processed_tweet', \":\", df['processed_tweet'].nunique())\n",
    "print('Colonne processed_userdescription', \":\", df['processed_userdescription'].nunique())"
   ]
  },
  {
   "cell_type": "code",
   "execution_count": 29,
   "metadata": {},
   "outputs": [
    {
     "name": "stdout",
     "output_type": "stream",
     "text": [
      "Colonne Content : 493705\n",
      "Colonne processed_content : 428191\n"
     ]
    }
   ],
   "source": [
    "print('Colonne Content', \":\", df2['content'].nunique())\n",
    "print('Colonne processed_content', \":\", df2['processed_content'].nunique())"
   ]
  },
  {
   "cell_type": "code",
   "execution_count": 30,
   "metadata": {},
   "outputs": [
    {
     "data": {
      "text/html": [
       "<div>\n",
       "<style scoped>\n",
       "    .dataframe tbody tr th:only-of-type {\n",
       "        vertical-align: middle;\n",
       "    }\n",
       "\n",
       "    .dataframe tbody tr th {\n",
       "        vertical-align: top;\n",
       "    }\n",
       "\n",
       "    .dataframe thead th {\n",
       "        text-align: right;\n",
       "    }\n",
       "</style>\n",
       "<table border=\"1\" class=\"dataframe\">\n",
       "  <thead>\n",
       "    <tr style=\"text-align: right;\">\n",
       "      <th></th>\n",
       "      <th>Date</th>\n",
       "      <th>Tweet</th>\n",
       "      <th>Url</th>\n",
       "      <th>User</th>\n",
       "      <th>UserCreated</th>\n",
       "      <th>UserVerified</th>\n",
       "      <th>UserFollowers</th>\n",
       "      <th>UserFriends</th>\n",
       "      <th>Retweets</th>\n",
       "      <th>Likes</th>\n",
       "      <th>Location</th>\n",
       "      <th>UserDescription</th>\n",
       "      <th>hashtags</th>\n",
       "      <th>mentions</th>\n",
       "      <th>processed_tweet</th>\n",
       "      <th>processed_userdescription</th>\n",
       "    </tr>\n",
       "  </thead>\n",
       "  <tbody>\n",
       "    <tr>\n",
       "      <th>0</th>\n",
       "      <td>2023-02-24</td>\n",
       "      <td>How to hire 100x more productive team members ...</td>\n",
       "      <td>https://twitter.com/smnishad/status/1629028212...</td>\n",
       "      <td>smnishad</td>\n",
       "      <td>2009-03-04</td>\n",
       "      <td>False</td>\n",
       "      <td>2524.0</td>\n",
       "      <td>4966.0</td>\n",
       "      <td>0.0</td>\n",
       "      <td>0.0</td>\n",
       "      <td>New Delhi, India</td>\n",
       "      <td>Account Planning at Adfactors Advertising</td>\n",
       "      <td>[#chatgpt]</td>\n",
       "      <td>[]</td>\n",
       "      <td>hire productive team member free interviewed h...</td>\n",
       "      <td>account planning adfactors advertising</td>\n",
       "    </tr>\n",
       "    <tr>\n",
       "      <th>1</th>\n",
       "      <td>2023-02-24</td>\n",
       "      <td>Chatgtp breakfast about to start #ChatGPT #fut...</td>\n",
       "      <td>https://twitter.com/SevenKingsSch/status/16290...</td>\n",
       "      <td>SevenKingsSch</td>\n",
       "      <td>2010-05-06</td>\n",
       "      <td>False</td>\n",
       "      <td>1322.0</td>\n",
       "      <td>174.0</td>\n",
       "      <td>0.0</td>\n",
       "      <td>0.0</td>\n",
       "      <td>Ilford, Redbridge</td>\n",
       "      <td>All Through. Outstanding. World Class. See Six...</td>\n",
       "      <td>[#chatgpt, #futureproofing, #opportunity]</td>\n",
       "      <td>[]</td>\n",
       "      <td>chatgtp breakfast start</td>\n",
       "      <td>outstanding world class sixthform seven king l...</td>\n",
       "    </tr>\n",
       "    <tr>\n",
       "      <th>2</th>\n",
       "      <td>2023-02-24</td>\n",
       "      <td>@PiCoreTeam Pi network will be one of the supe...</td>\n",
       "      <td>https://twitter.com/jad_alrabe3/status/1629028...</td>\n",
       "      <td>jad_alrabe3</td>\n",
       "      <td>2012-03-05</td>\n",
       "      <td>False</td>\n",
       "      <td>311.0</td>\n",
       "      <td>1822.0</td>\n",
       "      <td>0.0</td>\n",
       "      <td>0.0</td>\n",
       "      <td>Irbid, jordan</td>\n",
       "      <td>أنا وقلبي وعَقلٌ لم يَسَع حُلُمي\\nيا ربُّ هيِّ...</td>\n",
       "      <td>[#pinetwork, #web3, #openai, #chatgpt, #crepto]</td>\n",
       "      <td>[@picoreteam]</td>\n",
       "      <td>pi network super portal web world</td>\n",
       "      <td>أنا وقلبي وع قل لم ي س ع ح ل مي يا رب هي ئ لنا...</td>\n",
       "    </tr>\n",
       "    <tr>\n",
       "      <th>5</th>\n",
       "      <td>2023-02-24</td>\n",
       "      <td>The Future of Writing in a World of Artificial...</td>\n",
       "      <td>https://twitter.com/manohar12/status/162902801...</td>\n",
       "      <td>manohar12</td>\n",
       "      <td>2009-10-24</td>\n",
       "      <td>False</td>\n",
       "      <td>119.0</td>\n",
       "      <td>957.0</td>\n",
       "      <td>0.0</td>\n",
       "      <td>0.0</td>\n",
       "      <td>Gurgaon</td>\n",
       "      <td>be the change enabler….</td>\n",
       "      <td>[#chatgpt]</td>\n",
       "      <td>[@spencerideas]</td>\n",
       "      <td>future writing world artificial intelligence</td>\n",
       "      <td>change enabler</td>\n",
       "    </tr>\n",
       "    <tr>\n",
       "      <th>6</th>\n",
       "      <td>2023-02-24</td>\n",
       "      <td>EdTech WORLD FORUM 2023,\\nhttps://t.co/y33ssL8...</td>\n",
       "      <td>https://twitter.com/metaverseworld_/status/162...</td>\n",
       "      <td>metaverseworld_</td>\n",
       "      <td>2013-03-09</td>\n",
       "      <td>False</td>\n",
       "      <td>9110.0</td>\n",
       "      <td>499.0</td>\n",
       "      <td>3.0</td>\n",
       "      <td>1.0</td>\n",
       "      <td>London, UK</td>\n",
       "      <td>Metaverse World in London UK is a leading meta...</td>\n",
       "      <td>[#edtech, #elearning, #education, #onlineeduca...</td>\n",
       "      <td>[]</td>\n",
       "      <td>edtech world forum london book</td>\n",
       "      <td>metaverse world london uk leading metaverse hub</td>\n",
       "    </tr>\n",
       "  </tbody>\n",
       "</table>\n",
       "</div>"
      ],
      "text/plain": [
       "         Date                                              Tweet  \\\n",
       "0  2023-02-24  How to hire 100x more productive team members ...   \n",
       "1  2023-02-24  Chatgtp breakfast about to start #ChatGPT #fut...   \n",
       "2  2023-02-24  @PiCoreTeam Pi network will be one of the supe...   \n",
       "5  2023-02-24  The Future of Writing in a World of Artificial...   \n",
       "6  2023-02-24  EdTech WORLD FORUM 2023,\\nhttps://t.co/y33ssL8...   \n",
       "\n",
       "                                                 Url             User  \\\n",
       "0  https://twitter.com/smnishad/status/1629028212...         smnishad   \n",
       "1  https://twitter.com/SevenKingsSch/status/16290...    SevenKingsSch   \n",
       "2  https://twitter.com/jad_alrabe3/status/1629028...      jad_alrabe3   \n",
       "5  https://twitter.com/manohar12/status/162902801...        manohar12   \n",
       "6  https://twitter.com/metaverseworld_/status/162...  metaverseworld_   \n",
       "\n",
       "  UserCreated UserVerified  UserFollowers  UserFriends Retweets Likes  \\\n",
       "0  2009-03-04        False         2524.0       4966.0      0.0   0.0   \n",
       "1  2010-05-06        False         1322.0        174.0      0.0   0.0   \n",
       "2  2012-03-05        False          311.0       1822.0      0.0   0.0   \n",
       "5  2009-10-24        False          119.0        957.0      0.0   0.0   \n",
       "6  2013-03-09        False         9110.0        499.0      3.0   1.0   \n",
       "\n",
       "            Location                                    UserDescription  \\\n",
       "0   New Delhi, India          Account Planning at Adfactors Advertising   \n",
       "1  Ilford, Redbridge  All Through. Outstanding. World Class. See Six...   \n",
       "2     Irbid, jordan   أنا وقلبي وعَقلٌ لم يَسَع حُلُمي\\nيا ربُّ هيِّ...   \n",
       "5            Gurgaon                            be the change enabler….   \n",
       "6         London, UK  Metaverse World in London UK is a leading meta...   \n",
       "\n",
       "                                            hashtags         mentions  \\\n",
       "0                                         [#chatgpt]               []   \n",
       "1          [#chatgpt, #futureproofing, #opportunity]               []   \n",
       "2    [#pinetwork, #web3, #openai, #chatgpt, #crepto]    [@picoreteam]   \n",
       "5                                         [#chatgpt]  [@spencerideas]   \n",
       "6  [#edtech, #elearning, #education, #onlineeduca...               []   \n",
       "\n",
       "                                     processed_tweet  \\\n",
       "0  hire productive team member free interviewed h...   \n",
       "1                            chatgtp breakfast start   \n",
       "2                  pi network super portal web world   \n",
       "5       future writing world artificial intelligence   \n",
       "6                     edtech world forum london book   \n",
       "\n",
       "                           processed_userdescription  \n",
       "0             account planning adfactors advertising  \n",
       "1  outstanding world class sixthform seven king l...  \n",
       "2  أنا وقلبي وع قل لم ي س ع ح ل مي يا رب هي ئ لنا...  \n",
       "5                                     change enabler  \n",
       "6    metaverse world london uk leading metaverse hub  "
      ]
     },
     "execution_count": 30,
     "metadata": {},
     "output_type": "execute_result"
    }
   ],
   "source": [
    "df.head() "
   ]
  },
  {
   "cell_type": "markdown",
   "metadata": {},
   "source": [
    "On conserve les lignes de contenu avec le plus grand engagement"
   ]
  },
  {
   "cell_type": "code",
   "execution_count": 31,
   "metadata": {},
   "outputs": [],
   "source": [
    "# Conversion 'Likes' en valeur numérique\n",
    "df['Likes'] = pd.to_numeric(df['Likes'])\n",
    "\n",
    "# Tri du DataFrame par la colonne 'Likes' (du plus grand au plus petit)\n",
    "df = df.sort_values(by='Likes', ascending=False)\n",
    "\n",
    "# Suppression des doublons basés sur la colonne 'processed_tweet'\n",
    "df = df.drop_duplicates(subset='processed_tweet').sort_index()"
   ]
  },
  {
   "cell_type": "code",
   "execution_count": 32,
   "metadata": {},
   "outputs": [],
   "source": [
    "df.to_csv(\"app/data/output_csv/tweets_preprocess.csv\",index=False)"
   ]
  },
  {
   "cell_type": "code",
   "execution_count": 33,
   "metadata": {},
   "outputs": [],
   "source": [
    "# Fusionner tous les textes en une seule chaîne\n",
    "all_words = ' '.join(df['processed_tweet']).split()\n",
    "\n",
    "# Compter les occurrences des mots et les afficher\n",
    "word_counts = pd.DataFrame(all_words).value_counts().reset_index()\n",
    "word_counts.columns = ['Word', 'Count']"
   ]
  },
  {
   "cell_type": "code",
   "execution_count": 34,
   "metadata": {},
   "outputs": [
    {
     "data": {
      "text/html": [
       "<div>\n",
       "<style scoped>\n",
       "    .dataframe tbody tr th:only-of-type {\n",
       "        vertical-align: middle;\n",
       "    }\n",
       "\n",
       "    .dataframe tbody tr th {\n",
       "        vertical-align: top;\n",
       "    }\n",
       "\n",
       "    .dataframe thead th {\n",
       "        text-align: right;\n",
       "    }\n",
       "</style>\n",
       "<table border=\"1\" class=\"dataframe\">\n",
       "  <thead>\n",
       "    <tr style=\"text-align: right;\">\n",
       "      <th></th>\n",
       "      <th>Word</th>\n",
       "      <th>Count</th>\n",
       "    </tr>\n",
       "  </thead>\n",
       "  <tbody>\n",
       "    <tr>\n",
       "      <th>0</th>\n",
       "      <td>ai</td>\n",
       "      <td>41694</td>\n",
       "    </tr>\n",
       "    <tr>\n",
       "      <th>1</th>\n",
       "      <td>chatgpt</td>\n",
       "      <td>41606</td>\n",
       "    </tr>\n",
       "    <tr>\n",
       "      <th>2</th>\n",
       "      <td>like</td>\n",
       "      <td>16708</td>\n",
       "    </tr>\n",
       "    <tr>\n",
       "      <th>3</th>\n",
       "      <td>use</td>\n",
       "      <td>13581</td>\n",
       "    </tr>\n",
       "    <tr>\n",
       "      <th>4</th>\n",
       "      <td>new</td>\n",
       "      <td>13203</td>\n",
       "    </tr>\n",
       "    <tr>\n",
       "      <th>5</th>\n",
       "      <td>write</td>\n",
       "      <td>10545</td>\n",
       "    </tr>\n",
       "    <tr>\n",
       "      <th>6</th>\n",
       "      <td>asked</td>\n",
       "      <td>10441</td>\n",
       "    </tr>\n",
       "    <tr>\n",
       "      <th>7</th>\n",
       "      <td>tool</td>\n",
       "      <td>10131</td>\n",
       "    </tr>\n",
       "    <tr>\n",
       "      <th>8</th>\n",
       "      <td>google</td>\n",
       "      <td>10112</td>\n",
       "    </tr>\n",
       "    <tr>\n",
       "      <th>9</th>\n",
       "      <td>time</td>\n",
       "      <td>9844</td>\n",
       "    </tr>\n",
       "  </tbody>\n",
       "</table>\n",
       "</div>"
      ],
      "text/plain": [
       "      Word  Count\n",
       "0       ai  41694\n",
       "1  chatgpt  41606\n",
       "2     like  16708\n",
       "3      use  13581\n",
       "4      new  13203\n",
       "5    write  10545\n",
       "6    asked  10441\n",
       "7     tool  10131\n",
       "8   google  10112\n",
       "9     time   9844"
      ]
     },
     "execution_count": 34,
     "metadata": {},
     "output_type": "execute_result"
    }
   ],
   "source": [
    "word_counts.head(10)"
   ]
  },
  {
   "cell_type": "markdown",
   "metadata": {},
   "source": [
    "#### Pour le deuxième dataset qu'on utilise"
   ]
  },
  {
   "cell_type": "code",
   "execution_count": 35,
   "metadata": {},
   "outputs": [],
   "source": [
    "# Fusionner tous les textes en une seule chaîne\n",
    "all_words_2 = ' '.join(df2['processed_content']).split()\n",
    "\n",
    "# Compter les occurrences des mots et les afficher\n",
    "word_counts_2 = pd.DataFrame(all_words_2).value_counts().reset_index()\n",
    "word_counts_2.columns = ['Word', 'Count']"
   ]
  },
  {
   "cell_type": "code",
   "execution_count": 36,
   "metadata": {},
   "outputs": [
    {
     "data": {
      "text/html": [
       "<div>\n",
       "<style scoped>\n",
       "    .dataframe tbody tr th:only-of-type {\n",
       "        vertical-align: middle;\n",
       "    }\n",
       "\n",
       "    .dataframe tbody tr th {\n",
       "        vertical-align: top;\n",
       "    }\n",
       "\n",
       "    .dataframe thead th {\n",
       "        text-align: right;\n",
       "    }\n",
       "</style>\n",
       "<table border=\"1\" class=\"dataframe\">\n",
       "  <thead>\n",
       "    <tr style=\"text-align: right;\">\n",
       "      <th></th>\n",
       "      <th>Word</th>\n",
       "      <th>Count</th>\n",
       "    </tr>\n",
       "  </thead>\n",
       "  <tbody>\n",
       "    <tr>\n",
       "      <th>0</th>\n",
       "      <td>gpt</td>\n",
       "      <td>172999</td>\n",
       "    </tr>\n",
       "    <tr>\n",
       "      <th>1</th>\n",
       "      <td>chat</td>\n",
       "      <td>142400</td>\n",
       "    </tr>\n",
       "    <tr>\n",
       "      <th>2</th>\n",
       "      <td>chatgpt</td>\n",
       "      <td>104249</td>\n",
       "    </tr>\n",
       "    <tr>\n",
       "      <th>3</th>\n",
       "      <td>ai</td>\n",
       "      <td>98648</td>\n",
       "    </tr>\n",
       "    <tr>\n",
       "      <th>4</th>\n",
       "      <td>like</td>\n",
       "      <td>38885</td>\n",
       "    </tr>\n",
       "    <tr>\n",
       "      <th>5</th>\n",
       "      <td>use</td>\n",
       "      <td>34607</td>\n",
       "    </tr>\n",
       "    <tr>\n",
       "      <th>6</th>\n",
       "      <td>new</td>\n",
       "      <td>29658</td>\n",
       "    </tr>\n",
       "    <tr>\n",
       "      <th>7</th>\n",
       "      <td>time</td>\n",
       "      <td>22965</td>\n",
       "    </tr>\n",
       "    <tr>\n",
       "      <th>8</th>\n",
       "      <td>tool</td>\n",
       "      <td>21899</td>\n",
       "    </tr>\n",
       "    <tr>\n",
       "      <th>9</th>\n",
       "      <td>google</td>\n",
       "      <td>20505</td>\n",
       "    </tr>\n",
       "  </tbody>\n",
       "</table>\n",
       "</div>"
      ],
      "text/plain": [
       "      Word   Count\n",
       "0      gpt  172999\n",
       "1     chat  142400\n",
       "2  chatgpt  104249\n",
       "3       ai   98648\n",
       "4     like   38885\n",
       "5      use   34607\n",
       "6      new   29658\n",
       "7     time   22965\n",
       "8     tool   21899\n",
       "9   google   20505"
      ]
     },
     "execution_count": 36,
     "metadata": {},
     "output_type": "execute_result"
    }
   ],
   "source": [
    "word_counts_2.head(10)"
   ]
  },
  {
   "cell_type": "code",
   "execution_count": 37,
   "metadata": {},
   "outputs": [],
   "source": [
    "word_counts.to_csv(\"app/data/output_csv/word_counts.csv\",index=False)\n",
    "word_counts_2.to_csv(\"app/data/output_csv/word_counts_2.csv\",index=False)"
   ]
  },
  {
   "cell_type": "markdown",
   "metadata": {},
   "source": [
    "### Tests de Visualisations"
   ]
  },
  {
   "cell_type": "markdown",
   "metadata": {},
   "source": [
    "Sur Streamlit, plus tard on va définir trois types de filtrage: <br>\n",
    "- Le filtrage par menu déroulant (jour, semaine et mois) et deux menus déroulant  le départ et la fin de la date  <br>\n",
    "- Le filtrage pour définir les seuils maximum pour le nombre de likes et de retweets (Utilisation du filtrage sur Streamlit)<br>\n",
    "- Le filtrage pour définir combien d'occurrences de mots contenant sur l'ensemble des tweets"
   ]
  },
  {
   "cell_type": "markdown",
   "metadata": {},
   "source": [
    "#### Nuage de points entre le nombre de likes et de retweets\n",
    "##### Analyse des interactions sociales "
   ]
  },
  {
   "cell_type": "code",
   "execution_count": 38,
   "metadata": {},
   "outputs": [],
   "source": [
    "max_like_count = 1500\n",
    "max_retweet_count = 300\n",
    "min_like_count = 150\n",
    "min_retweet_count = 50\n",
    "\n",
    "#Convertir le format numérique pour les trois colonnes\n",
    "df['Likes'] = pd.to_numeric(df['Likes'])\n",
    "df['Retweets'] = pd.to_numeric(df['Retweets'])\n",
    "\n",
    "# Filtrez le DataFrame pour inclure uniquement les lignes où like_count et retweet_count sont inférieurs aux seuils\n",
    "df_filtered = df[\n",
    "    (df['Likes'] <= max_like_count) & \n",
    "    (df['Likes'] >= min_like_count) & \n",
    "    (df['Retweets'] <= max_retweet_count) & \n",
    "    (df['Retweets'] >= min_retweet_count)\n",
    "]"
   ]
  },
  {
   "cell_type": "markdown",
   "metadata": {},
   "source": [
    " Contexte du tweet : les tweets sur des sujets d'actualité ont plus de chances de recevoir des retweets, car ils enrichissent la discussion, alors que ceux à caractère personnel ou émotionnel récoltent souvent plus de likes, en signe de soutien ou d'empathie. <br>"
   ]
  },
  {
   "cell_type": "code",
   "execution_count": 39,
   "metadata": {},
   "outputs": [
    {
     "data": {
      "application/vnd.plotly.v1+json": {
       "config": {
        "plotlyServerURL": "https://plot.ly"
       },
       "data": [
        {
         "customdata": [
          [
           "vivbajaj"
          ],
          [
           "Ishansharma7390"
          ],
          [
           "Bekkhilde"
          ],
          [
           "DataChaz"
          ],
          [
           "TheOfficialACM"
          ],
          [
           "ethayarajh"
          ],
          [
           "PalmBeachHair"
          ],
          [
           "samirsaran"
          ],
          [
           "Gapminder"
          ],
          [
           "DataChaz"
          ],
          [
           "MDeanClark"
          ],
          [
           "EcoAndrewTRC"
          ],
          [
           "TheHarrisSultan"
          ],
          [
           "DataChaz"
          ],
          [
           "DataChaz"
          ],
          [
           "ProjectGPT"
          ],
          [
           "TheMillennialMD"
          ],
          [
           "mrpiercEy"
          ],
          [
           "DataChaz"
          ],
          [
           "GanWeaving"
          ],
          [
           "DataChaz"
          ],
          [
           "RealBababanaras"
          ],
          [
           "FrRonconi"
          ],
          [
           "AdiviSesh"
          ],
          [
           "maljefairi"
          ],
          [
           "TrustWallet"
          ],
          [
           "DataChaz"
          ],
          [
           "sportmednews"
          ],
          [
           "sumitkapoor16"
          ],
          [
           "CoinexB"
          ],
          [
           "BDAnalyticsnews"
          ],
          [
           "jmattmiller"
          ],
          [
           "MariaBartiromo"
          ],
          [
           "DataChaz"
          ],
          [
           "DataChaz"
          ],
          [
           "JBEXCOM"
          ],
          [
           "d_boeselager"
          ],
          [
           "CatherineAdenle"
          ],
          [
           "EricTopol"
          ],
          [
           "DataChaz"
          ],
          [
           "TheCryptoLark"
          ],
          [
           "PerpyFinance"
          ],
          [
           "aiarena_"
          ],
          [
           "DataChaz"
          ],
          [
           "AndreSargeant"
          ],
          [
           "DataChaz"
          ],
          [
           "BSCNews"
          ],
          [
           "DataChaz"
          ],
          [
           "Khulood_Almani"
          ],
          [
           "sbayne"
          ],
          [
           "stufflistings"
          ],
          [
           "alvinfoo"
          ],
          [
           "elerianm"
          ],
          [
           "DataChaz"
          ],
          [
           "ProjectGPT"
          ],
          [
           "miidasnft"
          ],
          [
           "SRKUniverse"
          ],
          [
           "KarunaBadwal"
          ],
          [
           "Khulood_Almani"
          ],
          [
           "DataChaz"
          ],
          [
           "jasonyew"
          ],
          [
           "henkvaness"
          ],
          [
           "EvanKirstel"
          ],
          [
           "MocaverseNFT"
          ],
          [
           "SwissCognitive"
          ],
          [
           "SteveNouri"
          ],
          [
           "AltcoinDailyio"
          ],
          [
           "SteveNouri"
          ],
          [
           "Bob_Wachter"
          ],
          [
           "dawidpwiktor"
          ],
          [
           "Enter_Realm"
          ],
          [
           "DataChaz"
          ],
          [
           "AltcoinDailyio"
          ],
          [
           "thearyantweets"
          ],
          [
           "thetatvaindia"
          ],
          [
           "DataChaz"
          ],
          [
           "DataChaz"
          ],
          [
           "Profdilipmandal"
          ],
          [
           "cocoweixu"
          ],
          [
           "SteveNouri"
          ],
          [
           "EricTopol"
          ],
          [
           "jenniferzeng97"
          ],
          [
           "kylelf_"
          ],
          [
           "DataChaz"
          ],
          [
           "MILCplatform"
          ],
          [
           "ukilaw"
          ],
          [
           "baixx062"
          ],
          [
           "ShoaybKhan"
          ],
          [
           "JoyyuanWeb3"
          ],
          [
           "HMsheikh4"
          ],
          [
           "SteveNouri"
          ],
          [
           "rogerhamilton"
          ],
          [
           "MeghUpdates"
          ],
          [
           "sayy_hassan"
          ],
          [
           "KingOrula"
          ],
          [
           "DataChaz"
          ],
          [
           "DataChaz"
          ],
          [
           "DataChaz"
          ],
          [
           "timshi_ai"
          ],
          [
           "sebiomo_"
          ],
          [
           "ericnode"
          ],
          [
           "neal_katyal"
          ],
          [
           "hetmehtaa"
          ],
          [
           "SingularityNET"
          ],
          [
           "GilBouhnick"
          ],
          [
           "_smiley_divya"
          ],
          [
           "DataChaz"
          ],
          [
           "ramgopal_rao"
          ],
          [
           "DataChaz"
          ],
          [
           "HuobiGlobal"
          ],
          [
           "SteveNouri"
          ],
          [
           "DataChaz"
          ],
          [
           "Neuro_Skeptic"
          ],
          [
           "EricTopol"
          ],
          [
           "PythonPr"
          ],
          [
           "Sui_insiders"
          ],
          [
           "justinsuntron"
          ],
          [
           "CatherineAdenle"
          ],
          [
           "DataChaz"
          ],
          [
           "EricTopol"
          ],
          [
           "SteveNouri"
          ],
          [
           "Themonkeytrader"
          ],
          [
           "DataChaz"
          ],
          [
           "EricSpracklen"
          ],
          [
           "HarunHariss"
          ],
          [
           "Ae_tit"
          ],
          [
           "HamiSyahin1"
          ],
          [
           "breeadail"
          ],
          [
           "PythonPr"
          ],
          [
           "Vicoseven"
          ],
          [
           "ToddMitchem"
          ],
          [
           "UpscforAll"
          ],
          [
           "JohnJKline99"
          ],
          [
           "sinaEstavi"
          ],
          [
           "ShayneRedford"
          ],
          [
           "trentster"
          ],
          [
           "PythonPr"
          ],
          [
           "Python_Dv"
          ],
          [
           "MeehanEDU"
          ],
          [
           "AcademyDanielle"
          ],
          [
           "firstpost"
          ],
          [
           "realW3BT"
          ],
          [
           "stackshareio"
          ],
          [
           "PythonPr"
          ],
          [
           "aparanjape"
          ],
          [
           "Shubham_pen"
          ],
          [
           "mnicoletos"
          ],
          [
           "mnicoletos"
          ],
          [
           "swashapp"
          ],
          [
           "DataChaz"
          ],
          [
           "trramesh"
          ],
          [
           "PythonPr"
          ],
          [
           "hackinarticles"
          ],
          [
           "bron_eager"
          ],
          [
           "AMCcheerleader"
          ],
          [
           "EnglishOER"
          ],
          [
           "7h3h4ckv157"
          ],
          [
           "RabbitAICrypto"
          ],
          [
           "IrisVanRooij"
          ],
          [
           "ProtonPrivacy"
          ],
          [
           "KevinSvenson_"
          ],
          [
           "Sheraj99"
          ],
          [
           "DataChaz"
          ],
          [
           "sharplm"
          ],
          [
           "OracleAltcoin"
          ],
          [
           "DataChaz"
          ],
          [
           "DailyDarkWeb"
          ],
          [
           "ProtonPrivacy"
          ],
          [
           "KirkDBorne"
          ],
          [
           "HuobiGlobal"
          ],
          [
           "alvinfoo"
          ],
          [
           "DigPerspectives"
          ],
          [
           "palmerlaw"
          ],
          [
           "spreadflix"
          ],
          [
           "SteveNouri"
          ],
          [
           "DataChaz"
          ],
          [
           "CheerfulPodcast"
          ],
          [
           "mytradesignals"
          ],
          [
           "DataChaz"
          ],
          [
           "DataChaz"
          ],
          [
           "DataChaz"
          ],
          [
           "Kanthan2030"
          ],
          [
           "Siimplyavinash"
          ],
          [
           "TheBestEducator"
          ],
          [
           "vscooper"
          ],
          [
           "BonnieChelette"
          ],
          [
           "EricTopol"
          ],
          [
           "AlexAlexandrius"
          ],
          [
           "Israel"
          ],
          [
           "IshAristide"
          ],
          [
           "ExordeLabs"
          ],
          [
           "Schuldensuehner"
          ],
          [
           "XRP_Productions"
          ],
          [
           "henlojseam"
          ],
          [
           "BlankName5000"
          ],
          [
           "StevenXGe"
          ],
          [
           "StevenXGe"
          ],
          [
           "Schuldensuehner"
          ],
          [
           "BooneLovesVideo"
          ],
          [
           "sanjeevsanyal"
          ],
          [
           "GanWeaving"
          ],
          [
           "richardson_edu"
          ],
          [
           "DataScienceDojo"
          ],
          [
           "DataChaz"
          ],
          [
           "DataChaz"
          ],
          [
           "drg19982"
          ],
          [
           "DataChaz"
          ],
          [
           "qusaialhaddad"
          ],
          [
           "fdeligne"
          ],
          [
           "DataChaz"
          ],
          [
           "AtiqueUR_Rehman"
          ],
          [
           "mtholfsen"
          ],
          [
           "DataChaz"
          ],
          [
           "TheCryptoLark"
          ],
          [
           "MirMAKOfficial"
          ],
          [
           "istok"
          ],
          [
           "omerkhan78"
          ],
          [
           "DataChaz"
          ],
          [
           "DataChaz"
          ],
          [
           "kirubaakaran"
          ],
          [
           "MateMarschalko"
          ],
          [
           "bittensorpool"
          ],
          [
           "Njuchi_"
          ],
          [
           "BourdieuI"
          ],
          [
           "XRP_Productions"
          ],
          [
           "DataChaz"
          ],
          [
           "enterprimal"
          ],
          [
           "DataChaz"
          ],
          [
           "hamza_mughal22"
          ],
          [
           "MIftikh58715440"
          ],
          [
           "karlmehta"
          ],
          [
           "_akpiper"
          ],
          [
           "openaicommunity"
          ],
          [
           "enterprimal"
          ],
          [
           "DataChaz"
          ],
          [
           "maxplanckpress"
          ],
          [
           "timburrowes"
          ],
          [
           "mianaounzia"
          ],
          [
           "xsteenbrugge"
          ],
          [
           "DataChaz"
          ],
          [
           "MHiesboeck"
          ],
          [
           "IrisVanRooij"
          ],
          [
           "XRP_Productions"
          ],
          [
           "Neuro_Skeptic"
          ],
          [
           "justin_hart"
          ],
          [
           "DataChaz"
          ],
          [
           "seo_bint_ejamil"
          ],
          [
           "DataChaz"
          ],
          [
           "DataChaz"
          ],
          [
           "DataChaz"
          ],
          [
           "XRP_Productions"
          ],
          [
           "DataChaz"
          ],
          [
           "MIT_CSAIL"
          ],
          [
           "MrSTEmurray"
          ],
          [
           "KojoForex"
          ],
          [
           "mathieucrucq"
          ],
          [
           "DataChaz"
          ],
          [
           "DataChaz"
          ],
          [
           "aaronsiim"
          ],
          [
           "DrevZiga"
          ],
          [
           "DataChaz"
          ],
          [
           "SteveNouri"
          ],
          [
           "JamesHWade"
          ],
          [
           "DataChaz"
          ],
          [
           "python_spaces"
          ],
          [
           "DataChaz"
          ],
          [
           "DataChaz"
          ],
          [
           "DataChaz"
          ],
          [
           "arunpudur"
          ],
          [
           "EvanKirstel"
          ],
          [
           "DataChaz"
          ],
          [
           "DataChaz"
          ],
          [
           "trouble1_raunak"
          ],
          [
           "PythonPr"
          ],
          [
           "DataChaz"
          ],
          [
           "DataChaz"
          ],
          [
           "DataChaz"
          ],
          [
           "DataChaz"
          ],
          [
           "openaicommunity"
          ],
          [
           "mrmarchayes"
          ],
          [
           "in10n"
          ],
          [
           "Neuro_Skeptic"
          ],
          [
           "DataChaz"
          ],
          [
           "frankdegods"
          ],
          [
           "mtholfsen"
          ],
          [
           "its_yuvrajsingh"
          ],
          [
           "DataScienceDojo"
          ],
          [
           "illustrata_ai"
          ],
          [
           "i_bot404"
          ],
          [
           "EthicalSkeptic"
          ],
          [
           "DataChaz"
          ],
          [
           "Python_Dv"
          ],
          [
           "DataChaz"
          ],
          [
           "JoshEakle"
          ],
          [
           "EikoFried"
          ],
          [
           "Python_Dv"
          ],
          [
           "DataChaz"
          ],
          [
           "TheMafiafoot"
          ],
          [
           "joel120193"
          ],
          [
           "HackerSploit"
          ],
          [
           "Berci"
          ],
          [
           "davidbombal"
          ],
          [
           "edTechEvans"
          ],
          [
           "HackerSploit"
          ],
          [
           "DataChaz"
          ],
          [
           "IntuitMachine"
          ],
          [
           "DataChaz"
          ],
          [
           "troyhunt"
          ],
          [
           "scaffeoa"
          ],
          [
           "DataChaz"
          ],
          [
           "computational"
          ],
          [
           "JamesHWade"
          ],
          [
           "zolihonig"
          ],
          [
           "DataChaz"
          ],
          [
           "mattdiggityseo"
          ],
          [
           "AmbMKimani"
          ],
          [
           "Python_Dv"
          ],
          [
           "GuyP"
          ],
          [
           "GaryMarcus"
          ],
          [
           "amuse"
          ],
          [
           "cartoonnetwork"
          ],
          [
           "michelnivard"
          ],
          [
           "tMAIS0N"
          ],
          [
           "SentinelOne"
          ],
          [
           "alfianlosari"
          ],
          [
           "DataChaz"
          ],
          [
           "BitpingApp"
          ],
          [
           "BitpingApp"
          ],
          [
           "RamaswmySridhar"
          ],
          [
           "DataChaz"
          ],
          [
           "JohnNosta"
          ],
          [
           "shadrac_matata"
          ],
          [
           "BartronPolygon"
          ],
          [
           "jasminezroberts"
          ],
          [
           "RamaswmySridhar"
          ],
          [
           "uninen"
          ],
          [
           "WhaleCoinTalk"
          ],
          [
           "ardalis"
          ],
          [
           "Jason"
          ],
          [
           "amt_shrma"
          ],
          [
           "GhibranOfficial"
          ],
          [
           "DataChaz"
          ],
          [
           "DataScienceDojo"
          ],
          [
           "dwhitena"
          ],
          [
           "PythonPr"
          ],
          [
           "The_ADA_Poet"
          ],
          [
           "CertiK"
          ],
          [
           "DataChaz"
          ],
          [
           "JessieSunPsych"
          ],
          [
           "davidbombal"
          ],
          [
           "PythonPr"
          ],
          [
           "BJdichter"
          ],
          [
           "dogfinity"
          ],
          [
           "emmanuel_2m"
          ],
          [
           "javierluraschi"
          ],
          [
           "jmattmiller"
          ],
          [
           "Israel"
          ],
          [
           "DataChaz"
          ],
          [
           "DamiBenveniste"
          ],
          [
           "DTAPCAP"
          ],
          [
           "DonAllenIII"
          ],
          [
           "rhh4x0R"
          ],
          [
           "DataChaz"
          ],
          [
           "rcarmo"
          ],
          [
           "NEST_Protocol"
          ],
          [
           "FrRonconi"
          ],
          [
           "DataChaz"
          ],
          [
           "WillHobick"
          ],
          [
           "djqianfusion"
          ],
          [
           "denis_cera"
          ],
          [
           "sinanaral"
          ],
          [
           "sanchitgandhi99"
          ],
          [
           "fffiloni"
          ],
          [
           "DataChaz"
          ],
          [
           "esatoshiclub"
          ],
          [
           "taesiri"
          ],
          [
           "drjwrae"
          ],
          [
           "WhaleCoinTalk"
          ],
          [
           "Maaikees"
          ],
          [
           "TEDchris"
          ],
          [
           "DanielPink"
          ],
          [
           "CryptoCoinCoach"
          ],
          [
           "Xportify_"
          ],
          [
           "jessicanono1"
          ],
          [
           "asanwal"
          ],
          [
           "bl_artcult"
          ],
          [
           "labnol"
          ],
          [
           "Dogememegirl"
          ],
          [
           "jon_agar"
          ],
          [
           "jcpunongbayan"
          ],
          [
           "CEOlunc"
          ],
          [
           "simocristea"
          ],
          [
           "CryptoCoffee369"
          ],
          [
           "EvolveWeb3"
          ],
          [
           "ChartsBtc"
          ],
          [
           "PiscesBaishui"
          ],
          [
           "juliewdesign_"
          ],
          [
           "IsinAltinkaya"
          ],
          [
           "jradoff"
          ],
          [
           "marcelfahle"
          ],
          [
           "kentcdodds"
          ],
          [
           "DataChaz"
          ],
          [
           "omespino"
          ],
          [
           "GeneralEG64"
          ],
          [
           "MichaelJArcaro"
          ],
          [
           "andrewpprice"
          ],
          [
           "altryne"
          ],
          [
           "NielsRogge"
          ],
          [
           "marcelsalathe"
          ],
          [
           "HammerToe"
          ],
          [
           "dreamingtulpa"
          ],
          [
           "teropa"
          ],
          [
           "VohiCapital"
          ],
          [
           "GuyP"
          ],
          [
           "memotv"
          ],
          [
           "AdamLiszkiewicz"
          ],
          [
           "alice_und_bob"
          ],
          [
           "AndrewMayne"
          ]
         ],
         "hovertemplate": "Likes=%{marker.color}<br>Retweets=%{y}<br>User=%{customdata[0]}<extra></extra>",
         "legendgroup": "",
         "marker": {
          "color": [
           376,
           410,
           561,
           954,
           151,
           1328,
           250,
           496,
           169,
           198,
           154,
           461,
           205,
           288,
           267,
           312,
           234,
           550,
           1227,
           409,
           732,
           543,
           160,
           1491,
           459,
           541,
           716,
           268,
           505,
           235,
           418,
           644,
           227,
           609,
           1130,
           230,
           516,
           458,
           348,
           465,
           388,
           188,
           381,
           402,
           926,
           324,
           189,
           220,
           169,
           220,
           523,
           244,
           409,
           373,
           475,
           425,
           299,
           686,
           150,
           536,
           456,
           197,
           155,
           343,
           161,
           1233,
           279,
           1170,
           278,
           184,
           162,
           680,
           609,
           364,
           770,
           382,
           454,
           991,
           296,
           742,
           177,
           309,
           380,
           602,
           254,
           461,
           380,
           231,
           480,
           347,
           407,
           300,
           1112,
           317,
           161,
           749,
           265,
           629,
           221,
           570,
           298,
           1233,
           474,
           322,
           294,
           318,
           956,
           569,
           431,
           259,
           953,
           888,
           821,
           294,
           997,
           295,
           971,
           154,
           361,
           188,
           509,
           256,
           384,
           813,
           482,
           532,
           534,
           313,
           242,
           264,
           1025,
           410,
           273,
           341,
           1145,
           1008,
           719,
           486,
           1365,
           910,
           706,
           221,
           268,
           311,
           887,
           169,
           253,
           486,
           155,
           592,
           860,
           428,
           230,
           523,
           252,
           369,
           161,
           242,
           287,
           316,
           191,
           312,
           596,
           252,
           295,
           546,
           201,
           207,
           693,
           281,
           279,
           703,
           386,
           219,
           1352,
           266,
           1470,
           223,
           329,
           750,
           382,
           451,
           288,
           418,
           647,
           635,
           414,
           616,
           1215,
           585,
           164,
           207,
           489,
           439,
           328,
           780,
           621,
           221,
           404,
           805,
           1026,
           271,
           220,
           274,
           209,
           192,
           266,
           649,
           212,
           554,
           162,
           408,
           229,
           243,
           680,
           1390,
           245,
           328,
           253,
           810,
           713,
           166,
           299,
           656,
           826,
           565,
           640,
           630,
           270,
           301,
           515,
           431,
           356,
           533,
           484,
           322,
           475,
           158,
           779,
           550,
           1190,
           166,
           1251,
           344,
           286,
           908,
           322,
           975,
           286,
           874,
           694,
           367,
           982,
           1186,
           413,
           290,
           424,
           558,
           811,
           353,
           357,
           210,
           610,
           857,
           279,
           718,
           874,
           273,
           273,
           402,
           863,
           475,
           363,
           481,
           321,
           440,
           628,
           892,
           432,
           428,
           169,
           559,
           742,
           694,
           197,
           246,
           435,
           242,
           407,
           345,
           1120,
           1048,
           1068,
           425,
           387,
           285,
           413,
           220,
           988,
           350,
           182,
           595,
           314,
           379,
           871,
           413,
           258,
           1010,
           358,
           768,
           242,
           506,
           370,
           435,
           245,
           186,
           631,
           543,
           287,
           462,
           800,
           1126,
           193,
           792,
           569,
           306,
           318,
           332,
           1009,
           556,
           262,
           675,
           1209,
           1044,
           1460,
           615,
           260,
           389,
           1256,
           491,
           1164,
           523,
           841,
           495,
           934,
           444,
           284,
           489,
           693,
           289,
           791,
           788,
           276,
           684,
           1002,
           368,
           779,
           303,
           619,
           336,
           714,
           226,
           750,
           619,
           188,
           240,
           477,
           317,
           216,
           303,
           229,
           323,
           381,
           1085,
           259,
           365,
           580,
           221,
           271,
           965,
           403,
           373,
           163,
           441,
           724,
           357,
           453,
           262,
           349,
           264,
           501,
           544,
           521,
           366,
           152,
           173,
           806,
           469,
           384,
           998,
           1041,
           480,
           447,
           618,
           506,
           1128,
           592,
           276,
           296,
           238,
           329,
           458,
           260,
           1083,
           257,
           373,
           973,
           644
          ],
          "coloraxis": "coloraxis",
          "symbol": "circle"
         },
         "mode": "markers",
         "name": "",
         "orientation": "v",
         "showlegend": false,
         "type": "scatter",
         "x": [
          376,
          410,
          561,
          954,
          151,
          1328,
          250,
          496,
          169,
          198,
          154,
          461,
          205,
          288,
          267,
          312,
          234,
          550,
          1227,
          409,
          732,
          543,
          160,
          1491,
          459,
          541,
          716,
          268,
          505,
          235,
          418,
          644,
          227,
          609,
          1130,
          230,
          516,
          458,
          348,
          465,
          388,
          188,
          381,
          402,
          926,
          324,
          189,
          220,
          169,
          220,
          523,
          244,
          409,
          373,
          475,
          425,
          299,
          686,
          150,
          536,
          456,
          197,
          155,
          343,
          161,
          1233,
          279,
          1170,
          278,
          184,
          162,
          680,
          609,
          364,
          770,
          382,
          454,
          991,
          296,
          742,
          177,
          309,
          380,
          602,
          254,
          461,
          380,
          231,
          480,
          347,
          407,
          300,
          1112,
          317,
          161,
          749,
          265,
          629,
          221,
          570,
          298,
          1233,
          474,
          322,
          294,
          318,
          956,
          569,
          431,
          259,
          953,
          888,
          821,
          294,
          997,
          295,
          971,
          154,
          361,
          188,
          509,
          256,
          384,
          813,
          482,
          532,
          534,
          313,
          242,
          264,
          1025,
          410,
          273,
          341,
          1145,
          1008,
          719,
          486,
          1365,
          910,
          706,
          221,
          268,
          311,
          887,
          169,
          253,
          486,
          155,
          592,
          860,
          428,
          230,
          523,
          252,
          369,
          161,
          242,
          287,
          316,
          191,
          312,
          596,
          252,
          295,
          546,
          201,
          207,
          693,
          281,
          279,
          703,
          386,
          219,
          1352,
          266,
          1470,
          223,
          329,
          750,
          382,
          451,
          288,
          418,
          647,
          635,
          414,
          616,
          1215,
          585,
          164,
          207,
          489,
          439,
          328,
          780,
          621,
          221,
          404,
          805,
          1026,
          271,
          220,
          274,
          209,
          192,
          266,
          649,
          212,
          554,
          162,
          408,
          229,
          243,
          680,
          1390,
          245,
          328,
          253,
          810,
          713,
          166,
          299,
          656,
          826,
          565,
          640,
          630,
          270,
          301,
          515,
          431,
          356,
          533,
          484,
          322,
          475,
          158,
          779,
          550,
          1190,
          166,
          1251,
          344,
          286,
          908,
          322,
          975,
          286,
          874,
          694,
          367,
          982,
          1186,
          413,
          290,
          424,
          558,
          811,
          353,
          357,
          210,
          610,
          857,
          279,
          718,
          874,
          273,
          273,
          402,
          863,
          475,
          363,
          481,
          321,
          440,
          628,
          892,
          432,
          428,
          169,
          559,
          742,
          694,
          197,
          246,
          435,
          242,
          407,
          345,
          1120,
          1048,
          1068,
          425,
          387,
          285,
          413,
          220,
          988,
          350,
          182,
          595,
          314,
          379,
          871,
          413,
          258,
          1010,
          358,
          768,
          242,
          506,
          370,
          435,
          245,
          186,
          631,
          543,
          287,
          462,
          800,
          1126,
          193,
          792,
          569,
          306,
          318,
          332,
          1009,
          556,
          262,
          675,
          1209,
          1044,
          1460,
          615,
          260,
          389,
          1256,
          491,
          1164,
          523,
          841,
          495,
          934,
          444,
          284,
          489,
          693,
          289,
          791,
          788,
          276,
          684,
          1002,
          368,
          779,
          303,
          619,
          336,
          714,
          226,
          750,
          619,
          188,
          240,
          477,
          317,
          216,
          303,
          229,
          323,
          381,
          1085,
          259,
          365,
          580,
          221,
          271,
          965,
          403,
          373,
          163,
          441,
          724,
          357,
          453,
          262,
          349,
          264,
          501,
          544,
          521,
          366,
          152,
          173,
          806,
          469,
          384,
          998,
          1041,
          480,
          447,
          618,
          506,
          1128,
          592,
          276,
          296,
          238,
          329,
          458,
          260,
          1083,
          257,
          373,
          973,
          644
         ],
         "xaxis": "x",
         "y": [
          68,
          100,
          75,
          272,
          58,
          219,
          264,
          93,
          53,
          61,
          56,
          72,
          52,
          73,
          50,
          50,
          67,
          95,
          252,
          55,
          183,
          237,
          53,
          62,
          97,
          72,
          172,
          67,
          56,
          200,
          169,
          264,
          89,
          107,
          283,
          189,
          102,
          178,
          94,
          105,
          91,
          164,
          247,
          61,
          113,
          64,
          53,
          55,
          117,
          79,
          128,
          53,
          54,
          62,
          93,
          115,
          64,
          221,
          125,
          100,
          88,
          91,
          53,
          100,
          68,
          238,
          72,
          131,
          61,
          183,
          58,
          163,
          59,
          233,
          98,
          75,
          92,
          296,
          66,
          165,
          64,
          75,
          126,
          133,
          59,
          106,
          122,
          56,
          90,
          90,
          57,
          65,
          129,
          54,
          79,
          184,
          63,
          117,
          53,
          78,
          95,
          77,
          160,
          59,
          58,
          64,
          175,
          152,
          78,
          56,
          87,
          231,
          65,
          88,
          290,
          176,
          259,
          58,
          61,
          80,
          68,
          58,
          95,
          187,
          171,
          176,
          216,
          58,
          84,
          58,
          55,
          82,
          59,
          106,
          254,
          157,
          208,
          136,
          234,
          277,
          157,
          55,
          55,
          70,
          133,
          60,
          147,
          152,
          138,
          140,
          300,
          137,
          70,
          157,
          63,
          106,
          81,
          73,
          111,
          70,
          61,
          137,
          153,
          65,
          55,
          108,
          65,
          63,
          202,
          57,
          88,
          175,
          73,
          71,
          215,
          51,
          58,
          73,
          59,
          155,
          92,
          112,
          59,
          79,
          121,
          208,
          198,
          133,
          159,
          85,
          144,
          73,
          57,
          67,
          168,
          169,
          162,
          67,
          67,
          71,
          82,
          66,
          62,
          67,
          51,
          81,
          59,
          108,
          56,
          146,
          222,
          100,
          53,
          68,
          208,
          174,
          108,
          77,
          55,
          94,
          135,
          126,
          59,
          83,
          114,
          87,
          248,
          86,
          244,
          62,
          190,
          77,
          76,
          209,
          133,
          115,
          54,
          82,
          71,
          98,
          160,
          70,
          145,
          66,
          83,
          247,
          58,
          181,
          58,
          150,
          117,
          50,
          203,
          180,
          57,
          53,
          87,
          69,
          208,
          111,
          69,
          51,
          107,
          68,
          53,
          67,
          179,
          84,
          127,
          77,
          211,
          59,
          58,
          115,
          67,
          55,
          80,
          195,
          202,
          97,
          66,
          59,
          121,
          55,
          53,
          68,
          84,
          64,
          66,
          133,
          225,
          271,
          226,
          63,
          88,
          84,
          56,
          146,
          185,
          62,
          55,
          136,
          64,
          75,
          181,
          56,
          61,
          70,
          77,
          169,
          79,
          114,
          72,
          82,
          52,
          55,
          156,
          67,
          83,
          115,
          98,
          204,
          86,
          259,
          51,
          77,
          216,
          222,
          256,
          90,
          67,
          167,
          261,
          153,
          252,
          118,
          83,
          51,
          132,
          74,
          95,
          95,
          228,
          106,
          275,
          95,
          52,
          86,
          156,
          65,
          203,
          163,
          86,
          114,
          114,
          122,
          72,
          60,
          181,
          66,
          128,
          56,
          128,
          116,
          98,
          105,
          102,
          55,
          69,
          61,
          60,
          65,
          91,
          238,
          104,
          66,
          70,
          89,
          59,
          125,
          106,
          123,
          144,
          101,
          111,
          85,
          75,
          79,
          93,
          84,
          141,
          124,
          107,
          67,
          56,
          246,
          66,
          91,
          73,
          58,
          80,
          88,
          60,
          133,
          55,
          67,
          104,
          59,
          55,
          50,
          58,
          52,
          56,
          135,
          51,
          70,
          275,
          125
         ],
         "yaxis": "y"
        }
       ],
       "layout": {
        "coloraxis": {
         "colorbar": {
          "title": {
           "text": "Likes"
          }
         },
         "colorscale": [
          [
           0,
           "#ff7f00"
          ],
          [
           0.5,
           "#e5e619"
          ],
          [
           1,
           "#16bb26"
          ]
         ]
        },
        "height": 600,
        "legend": {
         "tracegroupgap": 0
        },
        "margin": {
         "t": 60
        },
        "plot_bgcolor": "rgba(0,0,0,0)",
        "template": {
         "data": {
          "bar": [
           {
            "error_x": {
             "color": "#2a3f5f"
            },
            "error_y": {
             "color": "#2a3f5f"
            },
            "marker": {
             "line": {
              "color": "#E5ECF6",
              "width": 0.5
             },
             "pattern": {
              "fillmode": "overlay",
              "size": 10,
              "solidity": 0.2
             }
            },
            "type": "bar"
           }
          ],
          "barpolar": [
           {
            "marker": {
             "line": {
              "color": "#E5ECF6",
              "width": 0.5
             },
             "pattern": {
              "fillmode": "overlay",
              "size": 10,
              "solidity": 0.2
             }
            },
            "type": "barpolar"
           }
          ],
          "carpet": [
           {
            "aaxis": {
             "endlinecolor": "#2a3f5f",
             "gridcolor": "white",
             "linecolor": "white",
             "minorgridcolor": "white",
             "startlinecolor": "#2a3f5f"
            },
            "baxis": {
             "endlinecolor": "#2a3f5f",
             "gridcolor": "white",
             "linecolor": "white",
             "minorgridcolor": "white",
             "startlinecolor": "#2a3f5f"
            },
            "type": "carpet"
           }
          ],
          "choropleth": [
           {
            "colorbar": {
             "outlinewidth": 0,
             "ticks": ""
            },
            "type": "choropleth"
           }
          ],
          "contour": [
           {
            "colorbar": {
             "outlinewidth": 0,
             "ticks": ""
            },
            "colorscale": [
             [
              0,
              "#0d0887"
             ],
             [
              0.1111111111111111,
              "#46039f"
             ],
             [
              0.2222222222222222,
              "#7201a8"
             ],
             [
              0.3333333333333333,
              "#9c179e"
             ],
             [
              0.4444444444444444,
              "#bd3786"
             ],
             [
              0.5555555555555556,
              "#d8576b"
             ],
             [
              0.6666666666666666,
              "#ed7953"
             ],
             [
              0.7777777777777778,
              "#fb9f3a"
             ],
             [
              0.8888888888888888,
              "#fdca26"
             ],
             [
              1,
              "#f0f921"
             ]
            ],
            "type": "contour"
           }
          ],
          "contourcarpet": [
           {
            "colorbar": {
             "outlinewidth": 0,
             "ticks": ""
            },
            "type": "contourcarpet"
           }
          ],
          "heatmap": [
           {
            "colorbar": {
             "outlinewidth": 0,
             "ticks": ""
            },
            "colorscale": [
             [
              0,
              "#0d0887"
             ],
             [
              0.1111111111111111,
              "#46039f"
             ],
             [
              0.2222222222222222,
              "#7201a8"
             ],
             [
              0.3333333333333333,
              "#9c179e"
             ],
             [
              0.4444444444444444,
              "#bd3786"
             ],
             [
              0.5555555555555556,
              "#d8576b"
             ],
             [
              0.6666666666666666,
              "#ed7953"
             ],
             [
              0.7777777777777778,
              "#fb9f3a"
             ],
             [
              0.8888888888888888,
              "#fdca26"
             ],
             [
              1,
              "#f0f921"
             ]
            ],
            "type": "heatmap"
           }
          ],
          "heatmapgl": [
           {
            "colorbar": {
             "outlinewidth": 0,
             "ticks": ""
            },
            "colorscale": [
             [
              0,
              "#0d0887"
             ],
             [
              0.1111111111111111,
              "#46039f"
             ],
             [
              0.2222222222222222,
              "#7201a8"
             ],
             [
              0.3333333333333333,
              "#9c179e"
             ],
             [
              0.4444444444444444,
              "#bd3786"
             ],
             [
              0.5555555555555556,
              "#d8576b"
             ],
             [
              0.6666666666666666,
              "#ed7953"
             ],
             [
              0.7777777777777778,
              "#fb9f3a"
             ],
             [
              0.8888888888888888,
              "#fdca26"
             ],
             [
              1,
              "#f0f921"
             ]
            ],
            "type": "heatmapgl"
           }
          ],
          "histogram": [
           {
            "marker": {
             "pattern": {
              "fillmode": "overlay",
              "size": 10,
              "solidity": 0.2
             }
            },
            "type": "histogram"
           }
          ],
          "histogram2d": [
           {
            "colorbar": {
             "outlinewidth": 0,
             "ticks": ""
            },
            "colorscale": [
             [
              0,
              "#0d0887"
             ],
             [
              0.1111111111111111,
              "#46039f"
             ],
             [
              0.2222222222222222,
              "#7201a8"
             ],
             [
              0.3333333333333333,
              "#9c179e"
             ],
             [
              0.4444444444444444,
              "#bd3786"
             ],
             [
              0.5555555555555556,
              "#d8576b"
             ],
             [
              0.6666666666666666,
              "#ed7953"
             ],
             [
              0.7777777777777778,
              "#fb9f3a"
             ],
             [
              0.8888888888888888,
              "#fdca26"
             ],
             [
              1,
              "#f0f921"
             ]
            ],
            "type": "histogram2d"
           }
          ],
          "histogram2dcontour": [
           {
            "colorbar": {
             "outlinewidth": 0,
             "ticks": ""
            },
            "colorscale": [
             [
              0,
              "#0d0887"
             ],
             [
              0.1111111111111111,
              "#46039f"
             ],
             [
              0.2222222222222222,
              "#7201a8"
             ],
             [
              0.3333333333333333,
              "#9c179e"
             ],
             [
              0.4444444444444444,
              "#bd3786"
             ],
             [
              0.5555555555555556,
              "#d8576b"
             ],
             [
              0.6666666666666666,
              "#ed7953"
             ],
             [
              0.7777777777777778,
              "#fb9f3a"
             ],
             [
              0.8888888888888888,
              "#fdca26"
             ],
             [
              1,
              "#f0f921"
             ]
            ],
            "type": "histogram2dcontour"
           }
          ],
          "mesh3d": [
           {
            "colorbar": {
             "outlinewidth": 0,
             "ticks": ""
            },
            "type": "mesh3d"
           }
          ],
          "parcoords": [
           {
            "line": {
             "colorbar": {
              "outlinewidth": 0,
              "ticks": ""
             }
            },
            "type": "parcoords"
           }
          ],
          "pie": [
           {
            "automargin": true,
            "type": "pie"
           }
          ],
          "scatter": [
           {
            "fillpattern": {
             "fillmode": "overlay",
             "size": 10,
             "solidity": 0.2
            },
            "type": "scatter"
           }
          ],
          "scatter3d": [
           {
            "line": {
             "colorbar": {
              "outlinewidth": 0,
              "ticks": ""
             }
            },
            "marker": {
             "colorbar": {
              "outlinewidth": 0,
              "ticks": ""
             }
            },
            "type": "scatter3d"
           }
          ],
          "scattercarpet": [
           {
            "marker": {
             "colorbar": {
              "outlinewidth": 0,
              "ticks": ""
             }
            },
            "type": "scattercarpet"
           }
          ],
          "scattergeo": [
           {
            "marker": {
             "colorbar": {
              "outlinewidth": 0,
              "ticks": ""
             }
            },
            "type": "scattergeo"
           }
          ],
          "scattergl": [
           {
            "marker": {
             "colorbar": {
              "outlinewidth": 0,
              "ticks": ""
             }
            },
            "type": "scattergl"
           }
          ],
          "scattermapbox": [
           {
            "marker": {
             "colorbar": {
              "outlinewidth": 0,
              "ticks": ""
             }
            },
            "type": "scattermapbox"
           }
          ],
          "scatterpolar": [
           {
            "marker": {
             "colorbar": {
              "outlinewidth": 0,
              "ticks": ""
             }
            },
            "type": "scatterpolar"
           }
          ],
          "scatterpolargl": [
           {
            "marker": {
             "colorbar": {
              "outlinewidth": 0,
              "ticks": ""
             }
            },
            "type": "scatterpolargl"
           }
          ],
          "scatterternary": [
           {
            "marker": {
             "colorbar": {
              "outlinewidth": 0,
              "ticks": ""
             }
            },
            "type": "scatterternary"
           }
          ],
          "surface": [
           {
            "colorbar": {
             "outlinewidth": 0,
             "ticks": ""
            },
            "colorscale": [
             [
              0,
              "#0d0887"
             ],
             [
              0.1111111111111111,
              "#46039f"
             ],
             [
              0.2222222222222222,
              "#7201a8"
             ],
             [
              0.3333333333333333,
              "#9c179e"
             ],
             [
              0.4444444444444444,
              "#bd3786"
             ],
             [
              0.5555555555555556,
              "#d8576b"
             ],
             [
              0.6666666666666666,
              "#ed7953"
             ],
             [
              0.7777777777777778,
              "#fb9f3a"
             ],
             [
              0.8888888888888888,
              "#fdca26"
             ],
             [
              1,
              "#f0f921"
             ]
            ],
            "type": "surface"
           }
          ],
          "table": [
           {
            "cells": {
             "fill": {
              "color": "#EBF0F8"
             },
             "line": {
              "color": "white"
             }
            },
            "header": {
             "fill": {
              "color": "#C8D4E3"
             },
             "line": {
              "color": "white"
             }
            },
            "type": "table"
           }
          ]
         },
         "layout": {
          "annotationdefaults": {
           "arrowcolor": "#2a3f5f",
           "arrowhead": 0,
           "arrowwidth": 1
          },
          "autotypenumbers": "strict",
          "coloraxis": {
           "colorbar": {
            "outlinewidth": 0,
            "ticks": ""
           }
          },
          "colorscale": {
           "diverging": [
            [
             0,
             "#8e0152"
            ],
            [
             0.1,
             "#c51b7d"
            ],
            [
             0.2,
             "#de77ae"
            ],
            [
             0.3,
             "#f1b6da"
            ],
            [
             0.4,
             "#fde0ef"
            ],
            [
             0.5,
             "#f7f7f7"
            ],
            [
             0.6,
             "#e6f5d0"
            ],
            [
             0.7,
             "#b8e186"
            ],
            [
             0.8,
             "#7fbc41"
            ],
            [
             0.9,
             "#4d9221"
            ],
            [
             1,
             "#276419"
            ]
           ],
           "sequential": [
            [
             0,
             "#0d0887"
            ],
            [
             0.1111111111111111,
             "#46039f"
            ],
            [
             0.2222222222222222,
             "#7201a8"
            ],
            [
             0.3333333333333333,
             "#9c179e"
            ],
            [
             0.4444444444444444,
             "#bd3786"
            ],
            [
             0.5555555555555556,
             "#d8576b"
            ],
            [
             0.6666666666666666,
             "#ed7953"
            ],
            [
             0.7777777777777778,
             "#fb9f3a"
            ],
            [
             0.8888888888888888,
             "#fdca26"
            ],
            [
             1,
             "#f0f921"
            ]
           ],
           "sequentialminus": [
            [
             0,
             "#0d0887"
            ],
            [
             0.1111111111111111,
             "#46039f"
            ],
            [
             0.2222222222222222,
             "#7201a8"
            ],
            [
             0.3333333333333333,
             "#9c179e"
            ],
            [
             0.4444444444444444,
             "#bd3786"
            ],
            [
             0.5555555555555556,
             "#d8576b"
            ],
            [
             0.6666666666666666,
             "#ed7953"
            ],
            [
             0.7777777777777778,
             "#fb9f3a"
            ],
            [
             0.8888888888888888,
             "#fdca26"
            ],
            [
             1,
             "#f0f921"
            ]
           ]
          },
          "colorway": [
           "#636efa",
           "#EF553B",
           "#00cc96",
           "#ab63fa",
           "#FFA15A",
           "#19d3f3",
           "#FF6692",
           "#B6E880",
           "#FF97FF",
           "#FECB52"
          ],
          "font": {
           "color": "#2a3f5f"
          },
          "geo": {
           "bgcolor": "white",
           "lakecolor": "white",
           "landcolor": "#E5ECF6",
           "showlakes": true,
           "showland": true,
           "subunitcolor": "white"
          },
          "hoverlabel": {
           "align": "left"
          },
          "hovermode": "closest",
          "mapbox": {
           "style": "light"
          },
          "paper_bgcolor": "white",
          "plot_bgcolor": "#E5ECF6",
          "polar": {
           "angularaxis": {
            "gridcolor": "white",
            "linecolor": "white",
            "ticks": ""
           },
           "bgcolor": "#E5ECF6",
           "radialaxis": {
            "gridcolor": "white",
            "linecolor": "white",
            "ticks": ""
           }
          },
          "scene": {
           "xaxis": {
            "backgroundcolor": "#E5ECF6",
            "gridcolor": "white",
            "gridwidth": 2,
            "linecolor": "white",
            "showbackground": true,
            "ticks": "",
            "zerolinecolor": "white"
           },
           "yaxis": {
            "backgroundcolor": "#E5ECF6",
            "gridcolor": "white",
            "gridwidth": 2,
            "linecolor": "white",
            "showbackground": true,
            "ticks": "",
            "zerolinecolor": "white"
           },
           "zaxis": {
            "backgroundcolor": "#E5ECF6",
            "gridcolor": "white",
            "gridwidth": 2,
            "linecolor": "white",
            "showbackground": true,
            "ticks": "",
            "zerolinecolor": "white"
           }
          },
          "shapedefaults": {
           "line": {
            "color": "#2a3f5f"
           }
          },
          "ternary": {
           "aaxis": {
            "gridcolor": "white",
            "linecolor": "white",
            "ticks": ""
           },
           "baxis": {
            "gridcolor": "white",
            "linecolor": "white",
            "ticks": ""
           },
           "bgcolor": "#E5ECF6",
           "caxis": {
            "gridcolor": "white",
            "linecolor": "white",
            "ticks": ""
           }
          },
          "title": {
           "x": 0.05
          },
          "xaxis": {
           "automargin": true,
           "gridcolor": "white",
           "linecolor": "white",
           "ticks": "",
           "title": {
            "standoff": 15
           },
           "zerolinecolor": "white",
           "zerolinewidth": 2
          },
          "yaxis": {
           "automargin": true,
           "gridcolor": "white",
           "linecolor": "white",
           "ticks": "",
           "title": {
            "standoff": 15
           },
           "zerolinecolor": "white",
           "zerolinewidth": 2
          }
         }
        },
        "title": {
         "text": "Relation entre Likes et Retweets",
         "x": 0.5,
         "xanchor": "center",
         "y": 0.95,
         "yanchor": "top"
        },
        "width": 800,
        "xaxis": {
         "anchor": "y",
         "domain": [
          0,
          1
         ],
         "gridcolor": "lightgrey",
         "gridwidth": 0.5,
         "showgrid": true,
         "title": {
          "text": "Nombre de Likes"
         },
         "zeroline": true,
         "zerolinecolor": "black"
        },
        "yaxis": {
         "anchor": "x",
         "domain": [
          0,
          1
         ],
         "gridcolor": "lightgrey",
         "gridwidth": 0.5,
         "showgrid": true,
         "title": {
          "text": "Nombre de Retweets"
         },
         "zeroline": true,
         "zerolinecolor": "black"
        }
       }
      }
     },
     "metadata": {},
     "output_type": "display_data"
    }
   ],
   "source": [
    "fig = px.scatter(\n",
    "    df_filtered,\n",
    "    x='Likes',\n",
    "    y='Retweets',\n",
    "    color='Likes',  # Remplacez par une colonne pertinente si disponible\n",
    "    hover_data=['User'],  # Inclure le nom d'utilisateur dans les infobulles\n",
    "    color_continuous_scale=[ (0,  \"#ff7f00\"),  # Couleur pour les faibles densités\n",
    "        (0.5, \"#e5e619\"),                   \n",
    "        (1, \"#16bb26\")]  # Couleur pour les densités élevées]  # Palette de couleurs pour un rendu esthétique\n",
    ")\n",
    "# Personnalisation de la mise en page\n",
    "fig.update_layout(\n",
    "    title={\n",
    "        'text': \"Relation entre Likes et Retweets\",\n",
    "        'y': 0.95, 'x': 0.5, 'xanchor': 'center', 'yanchor': 'top'\n",
    "    },\n",
    "    xaxis=dict(\n",
    "        title='Nombre de Likes',\n",
    "        showgrid=True, gridcolor='lightgrey', gridwidth=0.5,\n",
    "        zeroline=True, zerolinecolor='black'\n",
    "    ),\n",
    "    yaxis=dict(\n",
    "        title='Nombre de Retweets',\n",
    "        showgrid=True, gridcolor='lightgrey', gridwidth=0.5,\n",
    "        zeroline=True, zerolinecolor='black'\n",
    "    ),\n",
    "    plot_bgcolor='rgba(0,0,0,0)',  # Rendre le fond transparent\n",
    "    height=600, width=800\n",
    ")"
   ]
  },
  {
   "cell_type": "markdown",
   "metadata": {},
   "source": [
    "#### Periode d'analyse de données en jour, semaine et mois"
   ]
  },
  {
   "cell_type": "code",
   "execution_count": 40,
   "metadata": {},
   "outputs": [],
   "source": [
    "\n",
    "# Compter la fréquence des tweets par date\n",
    "date_distribution = df[\"Date\"].value_counts().reset_index()\n",
    "date_distribution.columns = [\"Date\", \"TweetCount\"]\n",
    "date_distribution = date_distribution.sort_values(\"Date\")  # Trier par date"
   ]
  },
  {
   "cell_type": "code",
   "execution_count": 41,
   "metadata": {},
   "outputs": [
    {
     "data": {
      "application/vnd.plotly.v1+json": {
       "config": {
        "plotlyServerURL": "https://plot.ly"
       },
       "data": [
        {
         "alignmentgroup": "True",
         "hovertemplate": "Date=%{x}<br>TweetCount=%{marker.color}<extra></extra>",
         "legendgroup": "",
         "marker": {
          "color": [
           62,
           1061,
           2506,
           2107,
           2717,
           3870,
           4300,
           3229,
           3230,
           3099,
           2243,
           1910,
           1943,
           1878,
           1812,
           1674,
           1697,
           1140,
           958,
           1218,
           1220,
           1355,
           1280,
           1183,
           976,
           683,
           922,
           1155,
           1148,
           1019,
           1075,
           831,
           757,
           1065,
           1420,
           1775,
           2228,
           2111,
           1774,
           1652,
           2051,
           2887,
           3029,
           2741,
           2547,
           1861,
           1666,
           2366,
           3000,
           2736,
           2648,
           2465,
           2090,
           1888,
           2989,
           3122,
           3090,
           2885,
           3003,
           2204,
           1954,
           2761,
           3158,
           3500,
           3705,
           3430,
           2358,
           2165,
           3710,
           5921,
           4778,
           4050,
           3638,
           2532,
           2350,
           3086,
           3124,
           3086,
           2938,
           3216,
           2009,
           1849,
           2808,
           3023,
           2684,
           2865,
           618
          ],
          "coloraxis": "coloraxis",
          "pattern": {
           "shape": ""
          }
         },
         "name": "",
         "offsetgroup": "",
         "orientation": "v",
         "showlegend": false,
         "textposition": "outside",
         "type": "bar",
         "x": [
          "2022-11-30",
          "2022-12-01",
          "2022-12-02",
          "2022-12-03",
          "2022-12-04",
          "2022-12-05",
          "2022-12-06",
          "2022-12-07",
          "2022-12-08",
          "2022-12-09",
          "2022-12-10",
          "2022-12-11",
          "2022-12-12",
          "2022-12-13",
          "2022-12-14",
          "2022-12-15",
          "2022-12-16",
          "2022-12-17",
          "2022-12-18",
          "2022-12-19",
          "2022-12-20",
          "2022-12-21",
          "2022-12-22",
          "2022-12-23",
          "2022-12-24",
          "2022-12-25",
          "2022-12-26",
          "2022-12-27",
          "2022-12-28",
          "2022-12-29",
          "2022-12-30",
          "2022-12-31",
          "2023-01-01",
          "2023-01-02",
          "2023-01-03",
          "2023-01-04",
          "2023-01-05",
          "2023-01-06",
          "2023-01-07",
          "2023-01-08",
          "2023-01-09",
          "2023-01-10",
          "2023-01-11",
          "2023-01-12",
          "2023-01-13",
          "2023-01-14",
          "2023-01-15",
          "2023-01-16",
          "2023-01-17",
          "2023-01-18",
          "2023-01-19",
          "2023-01-20",
          "2023-01-21",
          "2023-01-22",
          "2023-01-23",
          "2023-01-24",
          "2023-01-25",
          "2023-01-26",
          "2023-01-27",
          "2023-01-28",
          "2023-01-29",
          "2023-01-30",
          "2023-01-31",
          "2023-02-01",
          "2023-02-02",
          "2023-02-03",
          "2023-02-04",
          "2023-02-05",
          "2023-02-06",
          "2023-02-07",
          "2023-02-08",
          "2023-02-09",
          "2023-02-10",
          "2023-02-11",
          "2023-02-12",
          "2023-02-13",
          "2023-02-14",
          "2023-02-15",
          "2023-02-16",
          "2023-02-17",
          "2023-02-18",
          "2023-02-19",
          "2023-02-20",
          "2023-02-21",
          "2023-02-22",
          "2023-02-23",
          "2023-02-24"
         ],
         "xaxis": "x",
         "y": [
          62,
          1061,
          2506,
          2107,
          2717,
          3870,
          4300,
          3229,
          3230,
          3099,
          2243,
          1910,
          1943,
          1878,
          1812,
          1674,
          1697,
          1140,
          958,
          1218,
          1220,
          1355,
          1280,
          1183,
          976,
          683,
          922,
          1155,
          1148,
          1019,
          1075,
          831,
          757,
          1065,
          1420,
          1775,
          2228,
          2111,
          1774,
          1652,
          2051,
          2887,
          3029,
          2741,
          2547,
          1861,
          1666,
          2366,
          3000,
          2736,
          2648,
          2465,
          2090,
          1888,
          2989,
          3122,
          3090,
          2885,
          3003,
          2204,
          1954,
          2761,
          3158,
          3500,
          3705,
          3430,
          2358,
          2165,
          3710,
          5921,
          4778,
          4050,
          3638,
          2532,
          2350,
          3086,
          3124,
          3086,
          2938,
          3216,
          2009,
          1849,
          2808,
          3023,
          2684,
          2865,
          618
         ],
         "yaxis": "y"
        }
       ],
       "layout": {
        "barmode": "relative",
        "coloraxis": {
         "colorbar": {
          "ticks": "outside",
          "title": {
           "text": "Quantité de Tweets"
          }
         },
         "colorscale": [
          [
           0,
           "#ADD8E6"
          ],
          [
           0.5,
           "#0047AB"
          ],
          [
           1,
           "#FFD700"
          ]
         ]
        },
        "height": 500,
        "legend": {
         "tracegroupgap": 0
        },
        "plot_bgcolor": "rgba(0,0,0,0)",
        "template": {
         "data": {
          "bar": [
           {
            "error_x": {
             "color": "#2a3f5f"
            },
            "error_y": {
             "color": "#2a3f5f"
            },
            "marker": {
             "line": {
              "color": "#E5ECF6",
              "width": 0.5
             },
             "pattern": {
              "fillmode": "overlay",
              "size": 10,
              "solidity": 0.2
             }
            },
            "type": "bar"
           }
          ],
          "barpolar": [
           {
            "marker": {
             "line": {
              "color": "#E5ECF6",
              "width": 0.5
             },
             "pattern": {
              "fillmode": "overlay",
              "size": 10,
              "solidity": 0.2
             }
            },
            "type": "barpolar"
           }
          ],
          "carpet": [
           {
            "aaxis": {
             "endlinecolor": "#2a3f5f",
             "gridcolor": "white",
             "linecolor": "white",
             "minorgridcolor": "white",
             "startlinecolor": "#2a3f5f"
            },
            "baxis": {
             "endlinecolor": "#2a3f5f",
             "gridcolor": "white",
             "linecolor": "white",
             "minorgridcolor": "white",
             "startlinecolor": "#2a3f5f"
            },
            "type": "carpet"
           }
          ],
          "choropleth": [
           {
            "colorbar": {
             "outlinewidth": 0,
             "ticks": ""
            },
            "type": "choropleth"
           }
          ],
          "contour": [
           {
            "colorbar": {
             "outlinewidth": 0,
             "ticks": ""
            },
            "colorscale": [
             [
              0,
              "#0d0887"
             ],
             [
              0.1111111111111111,
              "#46039f"
             ],
             [
              0.2222222222222222,
              "#7201a8"
             ],
             [
              0.3333333333333333,
              "#9c179e"
             ],
             [
              0.4444444444444444,
              "#bd3786"
             ],
             [
              0.5555555555555556,
              "#d8576b"
             ],
             [
              0.6666666666666666,
              "#ed7953"
             ],
             [
              0.7777777777777778,
              "#fb9f3a"
             ],
             [
              0.8888888888888888,
              "#fdca26"
             ],
             [
              1,
              "#f0f921"
             ]
            ],
            "type": "contour"
           }
          ],
          "contourcarpet": [
           {
            "colorbar": {
             "outlinewidth": 0,
             "ticks": ""
            },
            "type": "contourcarpet"
           }
          ],
          "heatmap": [
           {
            "colorbar": {
             "outlinewidth": 0,
             "ticks": ""
            },
            "colorscale": [
             [
              0,
              "#0d0887"
             ],
             [
              0.1111111111111111,
              "#46039f"
             ],
             [
              0.2222222222222222,
              "#7201a8"
             ],
             [
              0.3333333333333333,
              "#9c179e"
             ],
             [
              0.4444444444444444,
              "#bd3786"
             ],
             [
              0.5555555555555556,
              "#d8576b"
             ],
             [
              0.6666666666666666,
              "#ed7953"
             ],
             [
              0.7777777777777778,
              "#fb9f3a"
             ],
             [
              0.8888888888888888,
              "#fdca26"
             ],
             [
              1,
              "#f0f921"
             ]
            ],
            "type": "heatmap"
           }
          ],
          "heatmapgl": [
           {
            "colorbar": {
             "outlinewidth": 0,
             "ticks": ""
            },
            "colorscale": [
             [
              0,
              "#0d0887"
             ],
             [
              0.1111111111111111,
              "#46039f"
             ],
             [
              0.2222222222222222,
              "#7201a8"
             ],
             [
              0.3333333333333333,
              "#9c179e"
             ],
             [
              0.4444444444444444,
              "#bd3786"
             ],
             [
              0.5555555555555556,
              "#d8576b"
             ],
             [
              0.6666666666666666,
              "#ed7953"
             ],
             [
              0.7777777777777778,
              "#fb9f3a"
             ],
             [
              0.8888888888888888,
              "#fdca26"
             ],
             [
              1,
              "#f0f921"
             ]
            ],
            "type": "heatmapgl"
           }
          ],
          "histogram": [
           {
            "marker": {
             "pattern": {
              "fillmode": "overlay",
              "size": 10,
              "solidity": 0.2
             }
            },
            "type": "histogram"
           }
          ],
          "histogram2d": [
           {
            "colorbar": {
             "outlinewidth": 0,
             "ticks": ""
            },
            "colorscale": [
             [
              0,
              "#0d0887"
             ],
             [
              0.1111111111111111,
              "#46039f"
             ],
             [
              0.2222222222222222,
              "#7201a8"
             ],
             [
              0.3333333333333333,
              "#9c179e"
             ],
             [
              0.4444444444444444,
              "#bd3786"
             ],
             [
              0.5555555555555556,
              "#d8576b"
             ],
             [
              0.6666666666666666,
              "#ed7953"
             ],
             [
              0.7777777777777778,
              "#fb9f3a"
             ],
             [
              0.8888888888888888,
              "#fdca26"
             ],
             [
              1,
              "#f0f921"
             ]
            ],
            "type": "histogram2d"
           }
          ],
          "histogram2dcontour": [
           {
            "colorbar": {
             "outlinewidth": 0,
             "ticks": ""
            },
            "colorscale": [
             [
              0,
              "#0d0887"
             ],
             [
              0.1111111111111111,
              "#46039f"
             ],
             [
              0.2222222222222222,
              "#7201a8"
             ],
             [
              0.3333333333333333,
              "#9c179e"
             ],
             [
              0.4444444444444444,
              "#bd3786"
             ],
             [
              0.5555555555555556,
              "#d8576b"
             ],
             [
              0.6666666666666666,
              "#ed7953"
             ],
             [
              0.7777777777777778,
              "#fb9f3a"
             ],
             [
              0.8888888888888888,
              "#fdca26"
             ],
             [
              1,
              "#f0f921"
             ]
            ],
            "type": "histogram2dcontour"
           }
          ],
          "mesh3d": [
           {
            "colorbar": {
             "outlinewidth": 0,
             "ticks": ""
            },
            "type": "mesh3d"
           }
          ],
          "parcoords": [
           {
            "line": {
             "colorbar": {
              "outlinewidth": 0,
              "ticks": ""
             }
            },
            "type": "parcoords"
           }
          ],
          "pie": [
           {
            "automargin": true,
            "type": "pie"
           }
          ],
          "scatter": [
           {
            "fillpattern": {
             "fillmode": "overlay",
             "size": 10,
             "solidity": 0.2
            },
            "type": "scatter"
           }
          ],
          "scatter3d": [
           {
            "line": {
             "colorbar": {
              "outlinewidth": 0,
              "ticks": ""
             }
            },
            "marker": {
             "colorbar": {
              "outlinewidth": 0,
              "ticks": ""
             }
            },
            "type": "scatter3d"
           }
          ],
          "scattercarpet": [
           {
            "marker": {
             "colorbar": {
              "outlinewidth": 0,
              "ticks": ""
             }
            },
            "type": "scattercarpet"
           }
          ],
          "scattergeo": [
           {
            "marker": {
             "colorbar": {
              "outlinewidth": 0,
              "ticks": ""
             }
            },
            "type": "scattergeo"
           }
          ],
          "scattergl": [
           {
            "marker": {
             "colorbar": {
              "outlinewidth": 0,
              "ticks": ""
             }
            },
            "type": "scattergl"
           }
          ],
          "scattermapbox": [
           {
            "marker": {
             "colorbar": {
              "outlinewidth": 0,
              "ticks": ""
             }
            },
            "type": "scattermapbox"
           }
          ],
          "scatterpolar": [
           {
            "marker": {
             "colorbar": {
              "outlinewidth": 0,
              "ticks": ""
             }
            },
            "type": "scatterpolar"
           }
          ],
          "scatterpolargl": [
           {
            "marker": {
             "colorbar": {
              "outlinewidth": 0,
              "ticks": ""
             }
            },
            "type": "scatterpolargl"
           }
          ],
          "scatterternary": [
           {
            "marker": {
             "colorbar": {
              "outlinewidth": 0,
              "ticks": ""
             }
            },
            "type": "scatterternary"
           }
          ],
          "surface": [
           {
            "colorbar": {
             "outlinewidth": 0,
             "ticks": ""
            },
            "colorscale": [
             [
              0,
              "#0d0887"
             ],
             [
              0.1111111111111111,
              "#46039f"
             ],
             [
              0.2222222222222222,
              "#7201a8"
             ],
             [
              0.3333333333333333,
              "#9c179e"
             ],
             [
              0.4444444444444444,
              "#bd3786"
             ],
             [
              0.5555555555555556,
              "#d8576b"
             ],
             [
              0.6666666666666666,
              "#ed7953"
             ],
             [
              0.7777777777777778,
              "#fb9f3a"
             ],
             [
              0.8888888888888888,
              "#fdca26"
             ],
             [
              1,
              "#f0f921"
             ]
            ],
            "type": "surface"
           }
          ],
          "table": [
           {
            "cells": {
             "fill": {
              "color": "#EBF0F8"
             },
             "line": {
              "color": "white"
             }
            },
            "header": {
             "fill": {
              "color": "#C8D4E3"
             },
             "line": {
              "color": "white"
             }
            },
            "type": "table"
           }
          ]
         },
         "layout": {
          "annotationdefaults": {
           "arrowcolor": "#2a3f5f",
           "arrowhead": 0,
           "arrowwidth": 1
          },
          "autotypenumbers": "strict",
          "coloraxis": {
           "colorbar": {
            "outlinewidth": 0,
            "ticks": ""
           }
          },
          "colorscale": {
           "diverging": [
            [
             0,
             "#8e0152"
            ],
            [
             0.1,
             "#c51b7d"
            ],
            [
             0.2,
             "#de77ae"
            ],
            [
             0.3,
             "#f1b6da"
            ],
            [
             0.4,
             "#fde0ef"
            ],
            [
             0.5,
             "#f7f7f7"
            ],
            [
             0.6,
             "#e6f5d0"
            ],
            [
             0.7,
             "#b8e186"
            ],
            [
             0.8,
             "#7fbc41"
            ],
            [
             0.9,
             "#4d9221"
            ],
            [
             1,
             "#276419"
            ]
           ],
           "sequential": [
            [
             0,
             "#0d0887"
            ],
            [
             0.1111111111111111,
             "#46039f"
            ],
            [
             0.2222222222222222,
             "#7201a8"
            ],
            [
             0.3333333333333333,
             "#9c179e"
            ],
            [
             0.4444444444444444,
             "#bd3786"
            ],
            [
             0.5555555555555556,
             "#d8576b"
            ],
            [
             0.6666666666666666,
             "#ed7953"
            ],
            [
             0.7777777777777778,
             "#fb9f3a"
            ],
            [
             0.8888888888888888,
             "#fdca26"
            ],
            [
             1,
             "#f0f921"
            ]
           ],
           "sequentialminus": [
            [
             0,
             "#0d0887"
            ],
            [
             0.1111111111111111,
             "#46039f"
            ],
            [
             0.2222222222222222,
             "#7201a8"
            ],
            [
             0.3333333333333333,
             "#9c179e"
            ],
            [
             0.4444444444444444,
             "#bd3786"
            ],
            [
             0.5555555555555556,
             "#d8576b"
            ],
            [
             0.6666666666666666,
             "#ed7953"
            ],
            [
             0.7777777777777778,
             "#fb9f3a"
            ],
            [
             0.8888888888888888,
             "#fdca26"
            ],
            [
             1,
             "#f0f921"
            ]
           ]
          },
          "colorway": [
           "#636efa",
           "#EF553B",
           "#00cc96",
           "#ab63fa",
           "#FFA15A",
           "#19d3f3",
           "#FF6692",
           "#B6E880",
           "#FF97FF",
           "#FECB52"
          ],
          "font": {
           "color": "#2a3f5f"
          },
          "geo": {
           "bgcolor": "white",
           "lakecolor": "white",
           "landcolor": "#E5ECF6",
           "showlakes": true,
           "showland": true,
           "subunitcolor": "white"
          },
          "hoverlabel": {
           "align": "left"
          },
          "hovermode": "closest",
          "mapbox": {
           "style": "light"
          },
          "paper_bgcolor": "white",
          "plot_bgcolor": "#E5ECF6",
          "polar": {
           "angularaxis": {
            "gridcolor": "white",
            "linecolor": "white",
            "ticks": ""
           },
           "bgcolor": "#E5ECF6",
           "radialaxis": {
            "gridcolor": "white",
            "linecolor": "white",
            "ticks": ""
           }
          },
          "scene": {
           "xaxis": {
            "backgroundcolor": "#E5ECF6",
            "gridcolor": "white",
            "gridwidth": 2,
            "linecolor": "white",
            "showbackground": true,
            "ticks": "",
            "zerolinecolor": "white"
           },
           "yaxis": {
            "backgroundcolor": "#E5ECF6",
            "gridcolor": "white",
            "gridwidth": 2,
            "linecolor": "white",
            "showbackground": true,
            "ticks": "",
            "zerolinecolor": "white"
           },
           "zaxis": {
            "backgroundcolor": "#E5ECF6",
            "gridcolor": "white",
            "gridwidth": 2,
            "linecolor": "white",
            "showbackground": true,
            "ticks": "",
            "zerolinecolor": "white"
           }
          },
          "shapedefaults": {
           "line": {
            "color": "#2a3f5f"
           }
          },
          "ternary": {
           "aaxis": {
            "gridcolor": "white",
            "linecolor": "white",
            "ticks": ""
           },
           "baxis": {
            "gridcolor": "white",
            "linecolor": "white",
            "ticks": ""
           },
           "bgcolor": "#E5ECF6",
           "caxis": {
            "gridcolor": "white",
            "linecolor": "white",
            "ticks": ""
           }
          },
          "title": {
           "x": 0.05
          },
          "xaxis": {
           "automargin": true,
           "gridcolor": "white",
           "linecolor": "white",
           "ticks": "",
           "title": {
            "standoff": 15
           },
           "zerolinecolor": "white",
           "zerolinewidth": 2
          },
          "yaxis": {
           "automargin": true,
           "gridcolor": "white",
           "linecolor": "white",
           "ticks": "",
           "title": {
            "standoff": 15
           },
           "zerolinecolor": "white",
           "zerolinewidth": 2
          }
         }
        },
        "title": {
         "text": "Distribution des tweets par période"
        },
        "width": 800,
        "xaxis": {
         "anchor": "y",
         "domain": [
          0,
          1
         ],
         "gridcolor": "lightgrey",
         "gridwidth": 0.5,
         "showgrid": true,
         "title": {
          "text": "Date de publication"
         }
        },
        "yaxis": {
         "anchor": "x",
         "domain": [
          0,
          1
         ],
         "gridcolor": "lightgrey",
         "gridwidth": 0.5,
         "showgrid": true,
         "title": {
          "text": "Nombre de tweets"
         }
        }
       }
      }
     },
     "metadata": {},
     "output_type": "display_data"
    }
   ],
   "source": [
    "# Créer un graphique à barres\n",
    "fig = px.bar(\n",
    "    date_distribution,\n",
    "    x=\"Date\",\n",
    "    y=\"TweetCount\",\n",
    "    color='TweetCount',  # Remplacez par une colonne pertinente si disponible\n",
    "    title=\"Distribution des tweets par période\",\n",
    "    color_continuous_scale=[ (0, \"#ADD8E6\"),  # Couleur pour les faibles densités\n",
    "        (0.5,\"#0047AB\" ),  # Couleur pour les densités moyennes\n",
    "        (1, \"#FFD700\")]\n",
    ")\n",
    "\n",
    "# Personnalisation du graphique\n",
    "fig.update_traces(textposition=\"outside\")\n",
    "fig.update_layout(\n",
    "    width=800,\n",
    "    height=500,\n",
    "    coloraxis_colorbar=dict(\n",
    "        title=\"Quantité de Tweets\",  # Titre de la barre de couleur\n",
    "        ticks=\"outside\",\n",
    "    ),\n",
    "    xaxis=dict(\n",
    "        title='Date de publication',\n",
    "        showgrid=True, gridcolor='lightgrey', gridwidth=0.5,\n",
    "    ),\n",
    "    yaxis=dict(\n",
    "        title='Nombre de tweets',\n",
    "        showgrid=True, gridcolor='lightgrey', gridwidth=0.5,\n",
    "    ),\n",
    "    plot_bgcolor='rgba(0,0,0,0)',  # Rendre le fond transparent\n",
    ")\n",
    "\n",
    "# Afficher le graphique\n",
    "fig.show()"
   ]
  },
  {
   "cell_type": "markdown",
   "metadata": {},
   "source": [
    "#### \"Les 20 utilisateurs les plus actifs sur Twitter concernant le sujet de ChatGPT."
   ]
  },
  {
   "cell_type": "code",
   "execution_count": 42,
   "metadata": {},
   "outputs": [],
   "source": [
    "tweets_by_user = df.groupby('User').size().sort_values(ascending=False)"
   ]
  },
  {
   "cell_type": "code",
   "execution_count": 43,
   "metadata": {},
   "outputs": [
    {
     "data": {
      "application/vnd.plotly.v1+json": {
       "config": {
        "plotlyServerURL": "https://plot.ly"
       },
       "data": [
        {
         "alignmentgroup": "True",
         "hovertemplate": "x=%{x}<br>y=%{y}<br>color=%{marker.color}<extra></extra>",
         "legendgroup": "",
         "marker": {
          "color": [
           136,
           138,
           149,
           170,
           181,
           182,
           206,
           208,
           212,
           213,
           228,
           229,
           241,
           247,
           261,
           298,
           466,
           467,
           710,
           1203
          ],
          "coloraxis": "coloraxis",
          "pattern": {
           "shape": ""
          }
         },
         "name": "",
         "offsetgroup": "",
         "orientation": "h",
         "showlegend": false,
         "textposition": "auto",
         "type": "bar",
         "x": [
          136,
          138,
          149,
          170,
          181,
          182,
          206,
          208,
          212,
          213,
          228,
          229,
          241,
          247,
          261,
          298,
          466,
          467,
          710,
          1203
         ],
         "xaxis": "x",
         "y": [
          "ExpressTechie",
          "carlesdijous",
          "Khulood_Almani",
          "bamitav",
          "sheltgarner",
          "VeilleCyber3",
          "EmergentMind",
          "SpirosMargaris",
          "PriorityDomains",
          "stratorob",
          "richgel999",
          "vassbot",
          "ChatGPTStocks",
          "BitcoinsEarth",
          "JohnNosta",
          "BrentAAnders",
          "DataChaz",
          "JimyTuits",
          "aizone_cloud",
          "PhilippeJB_PJB"
         ],
         "yaxis": "y"
        }
       ],
       "layout": {
        "barmode": "relative",
        "coloraxis": {
         "colorbar": {
          "ticks": "outside",
          "title": {
           "text": "Quantité de Tweets"
          }
         },
         "colorscale": [
          [
           0,
           "#ADD8E6"
          ],
          [
           1,
           "#0047AB"
          ]
         ]
        },
        "height": 500,
        "legend": {
         "tracegroupgap": 0
        },
        "template": {
         "data": {
          "bar": [
           {
            "error_x": {
             "color": "#2a3f5f"
            },
            "error_y": {
             "color": "#2a3f5f"
            },
            "marker": {
             "line": {
              "color": "#E5ECF6",
              "width": 0.5
             },
             "pattern": {
              "fillmode": "overlay",
              "size": 10,
              "solidity": 0.2
             }
            },
            "type": "bar"
           }
          ],
          "barpolar": [
           {
            "marker": {
             "line": {
              "color": "#E5ECF6",
              "width": 0.5
             },
             "pattern": {
              "fillmode": "overlay",
              "size": 10,
              "solidity": 0.2
             }
            },
            "type": "barpolar"
           }
          ],
          "carpet": [
           {
            "aaxis": {
             "endlinecolor": "#2a3f5f",
             "gridcolor": "white",
             "linecolor": "white",
             "minorgridcolor": "white",
             "startlinecolor": "#2a3f5f"
            },
            "baxis": {
             "endlinecolor": "#2a3f5f",
             "gridcolor": "white",
             "linecolor": "white",
             "minorgridcolor": "white",
             "startlinecolor": "#2a3f5f"
            },
            "type": "carpet"
           }
          ],
          "choropleth": [
           {
            "colorbar": {
             "outlinewidth": 0,
             "ticks": ""
            },
            "type": "choropleth"
           }
          ],
          "contour": [
           {
            "colorbar": {
             "outlinewidth": 0,
             "ticks": ""
            },
            "colorscale": [
             [
              0,
              "#0d0887"
             ],
             [
              0.1111111111111111,
              "#46039f"
             ],
             [
              0.2222222222222222,
              "#7201a8"
             ],
             [
              0.3333333333333333,
              "#9c179e"
             ],
             [
              0.4444444444444444,
              "#bd3786"
             ],
             [
              0.5555555555555556,
              "#d8576b"
             ],
             [
              0.6666666666666666,
              "#ed7953"
             ],
             [
              0.7777777777777778,
              "#fb9f3a"
             ],
             [
              0.8888888888888888,
              "#fdca26"
             ],
             [
              1,
              "#f0f921"
             ]
            ],
            "type": "contour"
           }
          ],
          "contourcarpet": [
           {
            "colorbar": {
             "outlinewidth": 0,
             "ticks": ""
            },
            "type": "contourcarpet"
           }
          ],
          "heatmap": [
           {
            "colorbar": {
             "outlinewidth": 0,
             "ticks": ""
            },
            "colorscale": [
             [
              0,
              "#0d0887"
             ],
             [
              0.1111111111111111,
              "#46039f"
             ],
             [
              0.2222222222222222,
              "#7201a8"
             ],
             [
              0.3333333333333333,
              "#9c179e"
             ],
             [
              0.4444444444444444,
              "#bd3786"
             ],
             [
              0.5555555555555556,
              "#d8576b"
             ],
             [
              0.6666666666666666,
              "#ed7953"
             ],
             [
              0.7777777777777778,
              "#fb9f3a"
             ],
             [
              0.8888888888888888,
              "#fdca26"
             ],
             [
              1,
              "#f0f921"
             ]
            ],
            "type": "heatmap"
           }
          ],
          "heatmapgl": [
           {
            "colorbar": {
             "outlinewidth": 0,
             "ticks": ""
            },
            "colorscale": [
             [
              0,
              "#0d0887"
             ],
             [
              0.1111111111111111,
              "#46039f"
             ],
             [
              0.2222222222222222,
              "#7201a8"
             ],
             [
              0.3333333333333333,
              "#9c179e"
             ],
             [
              0.4444444444444444,
              "#bd3786"
             ],
             [
              0.5555555555555556,
              "#d8576b"
             ],
             [
              0.6666666666666666,
              "#ed7953"
             ],
             [
              0.7777777777777778,
              "#fb9f3a"
             ],
             [
              0.8888888888888888,
              "#fdca26"
             ],
             [
              1,
              "#f0f921"
             ]
            ],
            "type": "heatmapgl"
           }
          ],
          "histogram": [
           {
            "marker": {
             "pattern": {
              "fillmode": "overlay",
              "size": 10,
              "solidity": 0.2
             }
            },
            "type": "histogram"
           }
          ],
          "histogram2d": [
           {
            "colorbar": {
             "outlinewidth": 0,
             "ticks": ""
            },
            "colorscale": [
             [
              0,
              "#0d0887"
             ],
             [
              0.1111111111111111,
              "#46039f"
             ],
             [
              0.2222222222222222,
              "#7201a8"
             ],
             [
              0.3333333333333333,
              "#9c179e"
             ],
             [
              0.4444444444444444,
              "#bd3786"
             ],
             [
              0.5555555555555556,
              "#d8576b"
             ],
             [
              0.6666666666666666,
              "#ed7953"
             ],
             [
              0.7777777777777778,
              "#fb9f3a"
             ],
             [
              0.8888888888888888,
              "#fdca26"
             ],
             [
              1,
              "#f0f921"
             ]
            ],
            "type": "histogram2d"
           }
          ],
          "histogram2dcontour": [
           {
            "colorbar": {
             "outlinewidth": 0,
             "ticks": ""
            },
            "colorscale": [
             [
              0,
              "#0d0887"
             ],
             [
              0.1111111111111111,
              "#46039f"
             ],
             [
              0.2222222222222222,
              "#7201a8"
             ],
             [
              0.3333333333333333,
              "#9c179e"
             ],
             [
              0.4444444444444444,
              "#bd3786"
             ],
             [
              0.5555555555555556,
              "#d8576b"
             ],
             [
              0.6666666666666666,
              "#ed7953"
             ],
             [
              0.7777777777777778,
              "#fb9f3a"
             ],
             [
              0.8888888888888888,
              "#fdca26"
             ],
             [
              1,
              "#f0f921"
             ]
            ],
            "type": "histogram2dcontour"
           }
          ],
          "mesh3d": [
           {
            "colorbar": {
             "outlinewidth": 0,
             "ticks": ""
            },
            "type": "mesh3d"
           }
          ],
          "parcoords": [
           {
            "line": {
             "colorbar": {
              "outlinewidth": 0,
              "ticks": ""
             }
            },
            "type": "parcoords"
           }
          ],
          "pie": [
           {
            "automargin": true,
            "type": "pie"
           }
          ],
          "scatter": [
           {
            "fillpattern": {
             "fillmode": "overlay",
             "size": 10,
             "solidity": 0.2
            },
            "type": "scatter"
           }
          ],
          "scatter3d": [
           {
            "line": {
             "colorbar": {
              "outlinewidth": 0,
              "ticks": ""
             }
            },
            "marker": {
             "colorbar": {
              "outlinewidth": 0,
              "ticks": ""
             }
            },
            "type": "scatter3d"
           }
          ],
          "scattercarpet": [
           {
            "marker": {
             "colorbar": {
              "outlinewidth": 0,
              "ticks": ""
             }
            },
            "type": "scattercarpet"
           }
          ],
          "scattergeo": [
           {
            "marker": {
             "colorbar": {
              "outlinewidth": 0,
              "ticks": ""
             }
            },
            "type": "scattergeo"
           }
          ],
          "scattergl": [
           {
            "marker": {
             "colorbar": {
              "outlinewidth": 0,
              "ticks": ""
             }
            },
            "type": "scattergl"
           }
          ],
          "scattermapbox": [
           {
            "marker": {
             "colorbar": {
              "outlinewidth": 0,
              "ticks": ""
             }
            },
            "type": "scattermapbox"
           }
          ],
          "scatterpolar": [
           {
            "marker": {
             "colorbar": {
              "outlinewidth": 0,
              "ticks": ""
             }
            },
            "type": "scatterpolar"
           }
          ],
          "scatterpolargl": [
           {
            "marker": {
             "colorbar": {
              "outlinewidth": 0,
              "ticks": ""
             }
            },
            "type": "scatterpolargl"
           }
          ],
          "scatterternary": [
           {
            "marker": {
             "colorbar": {
              "outlinewidth": 0,
              "ticks": ""
             }
            },
            "type": "scatterternary"
           }
          ],
          "surface": [
           {
            "colorbar": {
             "outlinewidth": 0,
             "ticks": ""
            },
            "colorscale": [
             [
              0,
              "#0d0887"
             ],
             [
              0.1111111111111111,
              "#46039f"
             ],
             [
              0.2222222222222222,
              "#7201a8"
             ],
             [
              0.3333333333333333,
              "#9c179e"
             ],
             [
              0.4444444444444444,
              "#bd3786"
             ],
             [
              0.5555555555555556,
              "#d8576b"
             ],
             [
              0.6666666666666666,
              "#ed7953"
             ],
             [
              0.7777777777777778,
              "#fb9f3a"
             ],
             [
              0.8888888888888888,
              "#fdca26"
             ],
             [
              1,
              "#f0f921"
             ]
            ],
            "type": "surface"
           }
          ],
          "table": [
           {
            "cells": {
             "fill": {
              "color": "#EBF0F8"
             },
             "line": {
              "color": "white"
             }
            },
            "header": {
             "fill": {
              "color": "#C8D4E3"
             },
             "line": {
              "color": "white"
             }
            },
            "type": "table"
           }
          ]
         },
         "layout": {
          "annotationdefaults": {
           "arrowcolor": "#2a3f5f",
           "arrowhead": 0,
           "arrowwidth": 1
          },
          "autotypenumbers": "strict",
          "coloraxis": {
           "colorbar": {
            "outlinewidth": 0,
            "ticks": ""
           }
          },
          "colorscale": {
           "diverging": [
            [
             0,
             "#8e0152"
            ],
            [
             0.1,
             "#c51b7d"
            ],
            [
             0.2,
             "#de77ae"
            ],
            [
             0.3,
             "#f1b6da"
            ],
            [
             0.4,
             "#fde0ef"
            ],
            [
             0.5,
             "#f7f7f7"
            ],
            [
             0.6,
             "#e6f5d0"
            ],
            [
             0.7,
             "#b8e186"
            ],
            [
             0.8,
             "#7fbc41"
            ],
            [
             0.9,
             "#4d9221"
            ],
            [
             1,
             "#276419"
            ]
           ],
           "sequential": [
            [
             0,
             "#0d0887"
            ],
            [
             0.1111111111111111,
             "#46039f"
            ],
            [
             0.2222222222222222,
             "#7201a8"
            ],
            [
             0.3333333333333333,
             "#9c179e"
            ],
            [
             0.4444444444444444,
             "#bd3786"
            ],
            [
             0.5555555555555556,
             "#d8576b"
            ],
            [
             0.6666666666666666,
             "#ed7953"
            ],
            [
             0.7777777777777778,
             "#fb9f3a"
            ],
            [
             0.8888888888888888,
             "#fdca26"
            ],
            [
             1,
             "#f0f921"
            ]
           ],
           "sequentialminus": [
            [
             0,
             "#0d0887"
            ],
            [
             0.1111111111111111,
             "#46039f"
            ],
            [
             0.2222222222222222,
             "#7201a8"
            ],
            [
             0.3333333333333333,
             "#9c179e"
            ],
            [
             0.4444444444444444,
             "#bd3786"
            ],
            [
             0.5555555555555556,
             "#d8576b"
            ],
            [
             0.6666666666666666,
             "#ed7953"
            ],
            [
             0.7777777777777778,
             "#fb9f3a"
            ],
            [
             0.8888888888888888,
             "#fdca26"
            ],
            [
             1,
             "#f0f921"
            ]
           ]
          },
          "colorway": [
           "#636efa",
           "#EF553B",
           "#00cc96",
           "#ab63fa",
           "#FFA15A",
           "#19d3f3",
           "#FF6692",
           "#B6E880",
           "#FF97FF",
           "#FECB52"
          ],
          "font": {
           "color": "#2a3f5f"
          },
          "geo": {
           "bgcolor": "white",
           "lakecolor": "white",
           "landcolor": "#E5ECF6",
           "showlakes": true,
           "showland": true,
           "subunitcolor": "white"
          },
          "hoverlabel": {
           "align": "left"
          },
          "hovermode": "closest",
          "mapbox": {
           "style": "light"
          },
          "paper_bgcolor": "white",
          "plot_bgcolor": "#E5ECF6",
          "polar": {
           "angularaxis": {
            "gridcolor": "white",
            "linecolor": "white",
            "ticks": ""
           },
           "bgcolor": "#E5ECF6",
           "radialaxis": {
            "gridcolor": "white",
            "linecolor": "white",
            "ticks": ""
           }
          },
          "scene": {
           "xaxis": {
            "backgroundcolor": "#E5ECF6",
            "gridcolor": "white",
            "gridwidth": 2,
            "linecolor": "white",
            "showbackground": true,
            "ticks": "",
            "zerolinecolor": "white"
           },
           "yaxis": {
            "backgroundcolor": "#E5ECF6",
            "gridcolor": "white",
            "gridwidth": 2,
            "linecolor": "white",
            "showbackground": true,
            "ticks": "",
            "zerolinecolor": "white"
           },
           "zaxis": {
            "backgroundcolor": "#E5ECF6",
            "gridcolor": "white",
            "gridwidth": 2,
            "linecolor": "white",
            "showbackground": true,
            "ticks": "",
            "zerolinecolor": "white"
           }
          },
          "shapedefaults": {
           "line": {
            "color": "#2a3f5f"
           }
          },
          "ternary": {
           "aaxis": {
            "gridcolor": "white",
            "linecolor": "white",
            "ticks": ""
           },
           "baxis": {
            "gridcolor": "white",
            "linecolor": "white",
            "ticks": ""
           },
           "bgcolor": "#E5ECF6",
           "caxis": {
            "gridcolor": "white",
            "linecolor": "white",
            "ticks": ""
           }
          },
          "title": {
           "x": 0.05
          },
          "xaxis": {
           "automargin": true,
           "gridcolor": "white",
           "linecolor": "white",
           "ticks": "",
           "title": {
            "standoff": 15
           },
           "zerolinecolor": "white",
           "zerolinewidth": 2
          },
          "yaxis": {
           "automargin": true,
           "gridcolor": "white",
           "linecolor": "white",
           "ticks": "",
           "title": {
            "standoff": 15
           },
           "zerolinecolor": "white",
           "zerolinewidth": 2
          }
         }
        },
        "title": {
         "text": "Top 20 des utilisateurs actifs entre novembre 2022 à février 2023"
        },
        "width": 800,
        "xaxis": {
         "anchor": "y",
         "domain": [
          0,
          1
         ],
         "gridcolor": "lightgrey",
         "gridwidth": 0.5,
         "showgrid": true,
         "title": {
          "text": "Total de Tweets"
         }
        },
        "yaxis": {
         "anchor": "x",
         "domain": [
          0,
          1
         ],
         "gridcolor": "lightgrey",
         "gridwidth": 0.5,
         "showgrid": true,
         "title": {
          "text": "Nom des utilisateurs"
         }
        }
       }
      }
     },
     "metadata": {},
     "output_type": "display_data"
    }
   ],
   "source": [
    "\n",
    "# Créer le graphique avec une échelle de couleurs basée sur le nombre de tweets\n",
    "fig_users = px.bar(\n",
    "    y=tweets_by_user.index[:20][::-1],  # Inverser pour avoir l'ordre décroissant de haut en bas\n",
    "    x=tweets_by_user[:20][::-1],       # Correspondance des valeurs\n",
    "    title='Top 20 des utilisateurs actifs entre novembre 2022 à février 2023',\n",
    "    orientation='h',\n",
    "    color=tweets_by_user[:20][::-1],   # Utiliser le nombre de tweets pour la couleur\n",
    "    color_continuous_scale=[(0, \"#ADD8E6\"), (1, \"#0047AB\")] # Choisir une échelle de couleur (exemple : 'Viridis', 'Plasma', 'Cividis', etc.)\n",
    ")\n",
    "\n",
    "# Ajuster les options de la mise en page\n",
    "fig_users.update_layout(\n",
    "    width=800,\n",
    "    height=500,\n",
    "    coloraxis_colorbar=dict(\n",
    "        title=\"Quantité de Tweets\",  # Titre de la barre de couleur\n",
    "        ticks=\"outside\",\n",
    "    ),\n",
    "     xaxis=dict(\n",
    "        title='Total de Tweets',\n",
    "        showgrid=True, gridcolor='lightgrey', gridwidth=0.5,\n",
    "    ),\n",
    "    yaxis=dict(\n",
    "        title='Nom des utilisateurs',\n",
    "        showgrid=True, gridcolor='lightgrey', gridwidth=0.5,\n",
    "    ),\n",
    ")\n",
    "\n",
    "fig_users.show()"
   ]
  },
  {
   "cell_type": "markdown",
   "metadata": {},
   "source": [
    "#### Représentation d'un Wordcloud en fonction d'occurrence de mots des tweets "
   ]
  },
  {
   "cell_type": "code",
   "execution_count": 44,
   "metadata": {},
   "outputs": [],
   "source": [
    "from random import choice\n",
    "\n",
    "# Define a custom color function\n",
    "def custom_color_func(word, font_size, position, orientation, random_state=None, **kwargs):\n",
    "    colors = ['#1DA1F2', '#00CC96', '#FF5733', '#FFC300', '#E91E63', '#9C27B0', '#673AB7']\n",
    "    return choice(colors)"
   ]
  },
  {
   "cell_type": "code",
   "execution_count": 45,
   "metadata": {},
   "outputs": [
    {
     "data": {
      "image/png": "[encoded data removed]",
      "text/plain": [
       "<Figure size 500x500 with 1 Axes>"
      ]
     },
     "metadata": {},
     "output_type": "display_data"
    }
   ],
   "source": [
    "from PIL import Image\n",
    "\n",
    "logo_image = Image.open(\"app/data/twitter-logo.png\")\n",
    "logo_array = np.array(logo_image)\n",
    "\n",
    "wordcloud_twitter = WordCloud(height=500, width=500,\n",
    "                              background_color=\"white\", mode=\"RGB\",\n",
    "                              mask=logo_array, color_func=custom_color_func,\n",
    "                              contour_width=0.5, contour_color='black',\n",
    "                              font_path='app/content/SketchBook-B5pB.ttf').generate(' '.join(all_words)) \n",
    "\n",
    "\n",
    "plt.figure(figsize=[5, 5])\n",
    "plt.axis('off')\n",
    "plt.tight_layout(pad=0)\n",
    "plt.imshow(wordcloud_twitter, interpolation=\"bilinear\")\n",
    "plt.savefig(\"app/data/output_png/twitter_wordcloud.png\", format=\"png\")\n",
    "plt.show()"
   ]
  },
  {
   "cell_type": "code",
   "execution_count": 46,
   "metadata": {},
   "outputs": [
    {
     "data": {
      "image/png": "[encoded data removed]",
      "text/plain": [
       "<Figure size 500x500 with 1 Axes>"
      ]
     },
     "metadata": {},
     "output_type": "display_data"
    }
   ],
   "source": [
    "wordcloud_twitter = WordCloud(height=500, width=500,\n",
    "                              background_color=\"white\", mode=\"RGB\",\n",
    "                              mask=logo_array, color_func=custom_color_func,\n",
    "                              contour_width=0.5, contour_color='black',\n",
    "                              font_path='app/content/SketchBook-B5pB.ttf').generate(' '.join(all_words_2)) \n",
    "\n",
    "plt.figure(figsize=[5, 5])\n",
    "plt.axis('off')\n",
    "plt.tight_layout(pad=0)\n",
    "plt.imshow(wordcloud_twitter, interpolation=\"bilinear\")\n",
    "plt.savefig(\"app/data/output_png/twitter_wordcloud_2.png\", format=\"png\")\n",
    "plt.show()"
   ]
  },
  {
   "cell_type": "markdown",
   "metadata": {},
   "source": [
    "#### Analyse des hashtags et des mentions d’utilisateurs\n",
    "\n",
    "- Heatmap\n",
    "- Diagramme circulaire\n",
    "- Graphes en réseau\n",
    "- Diagrammes en colonnes empilées "
   ]
  },
  {
   "cell_type": "code",
   "execution_count": 47,
   "metadata": {},
   "outputs": [],
   "source": [
    "# Initialiser des listes vides pour les hashtags et mentions\n",
    "hashtags_flat = []\n",
    "mentions_flat = []\n",
    "top_number_hashtags = 10 \n",
    "top_number_mentions = 10 \n",
    "\n",
    "# Remplir les listes avec une boucle explicite\n",
    "for hashtags_list in df['hashtags']:\n",
    "    hashtags_flat.extend(hashtags_list)\n",
    "\n",
    "for mentions_list in df['mentions']:\n",
    "    mentions_flat.extend(mentions_list)\n",
    "\n",
    "# Créer les DataFrames pour les top 10 hashtags et mentions\n",
    "top_hashtags = pd.Series(hashtags_flat).value_counts().reset_index()\n",
    "top_hashtags.columns = ['Hashtag', 'Count']\n",
    "\n",
    "top_mentions = pd.Series(mentions_flat).value_counts().reset_index()\n",
    "top_mentions.columns = ['Mention', 'Count']"
   ]
  },
  {
   "cell_type": "code",
   "execution_count": 48,
   "metadata": {},
   "outputs": [],
   "source": [
    "top_mentions.to_csv(\"app/data/output_csv/top_mentions.csv\")\n",
    "top_hashtags.to_csv(\"app/data/output_csv/top_hashtags.csv\")"
   ]
  },
  {
   "cell_type": "code",
   "execution_count": 49,
   "metadata": {},
   "outputs": [
    {
     "name": "stdout",
     "output_type": "stream",
     "text": [
      "Top 10 Hashtags:\n",
      "                       Hashtag   Count\n",
      "0                     #chatgpt  203776\n",
      "1                          #ai   47167\n",
      "2                      #openai   17830\n",
      "3      #artificialintelligence   10825\n",
      "4                      #google    5699\n",
      "...                        ...     ...\n",
      "51654                 #blitz3d       1\n",
      "51655              #blitzbasic       1\n",
      "51656         #parallelcluster       1\n",
      "51657           #lookaroundyou       1\n",
      "51658                   #nixon       1\n",
      "\n",
      "[51659 rows x 2 columns]\n",
      "\n",
      "Top 10 Mentions:\n",
      "                Mention  Count\n",
      "0               @openai  10540\n",
      "1             @elonmusk   2997\n",
      "2               @google   1638\n",
      "3            @microsoft   1480\n",
      "4                 @sama   1248\n",
      "...                 ...    ...\n",
      "35359  @rhondawilsonmhn      1\n",
      "35360     @lajohnstondr      1\n",
      "35361        @dreddpitt      1\n",
      "35362    @celia_popovic      1\n",
      "35363            @going      1\n",
      "\n",
      "[35364 rows x 2 columns]\n"
     ]
    }
   ],
   "source": [
    "# Afficher les résultats\n",
    "print(\"Top 10 Hashtags:\")\n",
    "print(top_hashtags)\n",
    "\n",
    "print(\"\\nTop 10 Mentions:\")\n",
    "print(top_mentions)"
   ]
  },
  {
   "cell_type": "code",
   "execution_count": 50,
   "metadata": {},
   "outputs": [
    {
     "data": {
      "application/vnd.plotly.v1+json": {
       "config": {
        "plotlyServerURL": "https://plot.ly"
       },
       "data": [
        {
         "domain": {
          "x": [
           0,
           1
          ],
          "y": [
           0,
           1
          ]
         },
         "hovertemplate": "Hashtag=%{label}<br>Count=%{value}<extra></extra>",
         "labels": [
          "#chatgpt",
          "#ai",
          "#openai",
          "#artificialintelligence",
          "#google",
          "#microsoft",
          "#technology",
          "#machinelearning",
          "#gpt3",
          "#chatbot"
         ],
         "legendgroup": "",
         "name": "",
         "showlegend": true,
         "type": "pie",
         "values": [
          203776,
          47167,
          17830,
          10825,
          5699,
          4393,
          4358,
          3697,
          3442,
          3299
         ]
        }
       ],
       "layout": {
        "height": 500,
        "legend": {
         "tracegroupgap": 0
        },
        "piecolorway": [
         "rgb(103,0,31)",
         "rgb(178,24,43)",
         "rgb(214,96,77)",
         "rgb(244,165,130)",
         "rgb(253,219,199)",
         "rgb(247,247,247)",
         "rgb(209,229,240)",
         "rgb(146,197,222)",
         "rgb(67,147,195)",
         "rgb(33,102,172)",
         "rgb(5,48,97)"
        ],
        "template": {
         "data": {
          "bar": [
           {
            "error_x": {
             "color": "#2a3f5f"
            },
            "error_y": {
             "color": "#2a3f5f"
            },
            "marker": {
             "line": {
              "color": "#E5ECF6",
              "width": 0.5
             },
             "pattern": {
              "fillmode": "overlay",
              "size": 10,
              "solidity": 0.2
             }
            },
            "type": "bar"
           }
          ],
          "barpolar": [
           {
            "marker": {
             "line": {
              "color": "#E5ECF6",
              "width": 0.5
             },
             "pattern": {
              "fillmode": "overlay",
              "size": 10,
              "solidity": 0.2
             }
            },
            "type": "barpolar"
           }
          ],
          "carpet": [
           {
            "aaxis": {
             "endlinecolor": "#2a3f5f",
             "gridcolor": "white",
             "linecolor": "white",
             "minorgridcolor": "white",
             "startlinecolor": "#2a3f5f"
            },
            "baxis": {
             "endlinecolor": "#2a3f5f",
             "gridcolor": "white",
             "linecolor": "white",
             "minorgridcolor": "white",
             "startlinecolor": "#2a3f5f"
            },
            "type": "carpet"
           }
          ],
          "choropleth": [
           {
            "colorbar": {
             "outlinewidth": 0,
             "ticks": ""
            },
            "type": "choropleth"
           }
          ],
          "contour": [
           {
            "colorbar": {
             "outlinewidth": 0,
             "ticks": ""
            },
            "colorscale": [
             [
              0,
              "#0d0887"
             ],
             [
              0.1111111111111111,
              "#46039f"
             ],
             [
              0.2222222222222222,
              "#7201a8"
             ],
             [
              0.3333333333333333,
              "#9c179e"
             ],
             [
              0.4444444444444444,
              "#bd3786"
             ],
             [
              0.5555555555555556,
              "#d8576b"
             ],
             [
              0.6666666666666666,
              "#ed7953"
             ],
             [
              0.7777777777777778,
              "#fb9f3a"
             ],
             [
              0.8888888888888888,
              "#fdca26"
             ],
             [
              1,
              "#f0f921"
             ]
            ],
            "type": "contour"
           }
          ],
          "contourcarpet": [
           {
            "colorbar": {
             "outlinewidth": 0,
             "ticks": ""
            },
            "type": "contourcarpet"
           }
          ],
          "heatmap": [
           {
            "colorbar": {
             "outlinewidth": 0,
             "ticks": ""
            },
            "colorscale": [
             [
              0,
              "#0d0887"
             ],
             [
              0.1111111111111111,
              "#46039f"
             ],
             [
              0.2222222222222222,
              "#7201a8"
             ],
             [
              0.3333333333333333,
              "#9c179e"
             ],
             [
              0.4444444444444444,
              "#bd3786"
             ],
             [
              0.5555555555555556,
              "#d8576b"
             ],
             [
              0.6666666666666666,
              "#ed7953"
             ],
             [
              0.7777777777777778,
              "#fb9f3a"
             ],
             [
              0.8888888888888888,
              "#fdca26"
             ],
             [
              1,
              "#f0f921"
             ]
            ],
            "type": "heatmap"
           }
          ],
          "heatmapgl": [
           {
            "colorbar": {
             "outlinewidth": 0,
             "ticks": ""
            },
            "colorscale": [
             [
              0,
              "#0d0887"
             ],
             [
              0.1111111111111111,
              "#46039f"
             ],
             [
              0.2222222222222222,
              "#7201a8"
             ],
             [
              0.3333333333333333,
              "#9c179e"
             ],
             [
              0.4444444444444444,
              "#bd3786"
             ],
             [
              0.5555555555555556,
              "#d8576b"
             ],
             [
              0.6666666666666666,
              "#ed7953"
             ],
             [
              0.7777777777777778,
              "#fb9f3a"
             ],
             [
              0.8888888888888888,
              "#fdca26"
             ],
             [
              1,
              "#f0f921"
             ]
            ],
            "type": "heatmapgl"
           }
          ],
          "histogram": [
           {
            "marker": {
             "pattern": {
              "fillmode": "overlay",
              "size": 10,
              "solidity": 0.2
             }
            },
            "type": "histogram"
           }
          ],
          "histogram2d": [
           {
            "colorbar": {
             "outlinewidth": 0,
             "ticks": ""
            },
            "colorscale": [
             [
              0,
              "#0d0887"
             ],
             [
              0.1111111111111111,
              "#46039f"
             ],
             [
              0.2222222222222222,
              "#7201a8"
             ],
             [
              0.3333333333333333,
              "#9c179e"
             ],
             [
              0.4444444444444444,
              "#bd3786"
             ],
             [
              0.5555555555555556,
              "#d8576b"
             ],
             [
              0.6666666666666666,
              "#ed7953"
             ],
             [
              0.7777777777777778,
              "#fb9f3a"
             ],
             [
              0.8888888888888888,
              "#fdca26"
             ],
             [
              1,
              "#f0f921"
             ]
            ],
            "type": "histogram2d"
           }
          ],
          "histogram2dcontour": [
           {
            "colorbar": {
             "outlinewidth": 0,
             "ticks": ""
            },
            "colorscale": [
             [
              0,
              "#0d0887"
             ],
             [
              0.1111111111111111,
              "#46039f"
             ],
             [
              0.2222222222222222,
              "#7201a8"
             ],
             [
              0.3333333333333333,
              "#9c179e"
             ],
             [
              0.4444444444444444,
              "#bd3786"
             ],
             [
              0.5555555555555556,
              "#d8576b"
             ],
             [
              0.6666666666666666,
              "#ed7953"
             ],
             [
              0.7777777777777778,
              "#fb9f3a"
             ],
             [
              0.8888888888888888,
              "#fdca26"
             ],
             [
              1,
              "#f0f921"
             ]
            ],
            "type": "histogram2dcontour"
           }
          ],
          "mesh3d": [
           {
            "colorbar": {
             "outlinewidth": 0,
             "ticks": ""
            },
            "type": "mesh3d"
           }
          ],
          "parcoords": [
           {
            "line": {
             "colorbar": {
              "outlinewidth": 0,
              "ticks": ""
             }
            },
            "type": "parcoords"
           }
          ],
          "pie": [
           {
            "automargin": true,
            "type": "pie"
           }
          ],
          "scatter": [
           {
            "fillpattern": {
             "fillmode": "overlay",
             "size": 10,
             "solidity": 0.2
            },
            "type": "scatter"
           }
          ],
          "scatter3d": [
           {
            "line": {
             "colorbar": {
              "outlinewidth": 0,
              "ticks": ""
             }
            },
            "marker": {
             "colorbar": {
              "outlinewidth": 0,
              "ticks": ""
             }
            },
            "type": "scatter3d"
           }
          ],
          "scattercarpet": [
           {
            "marker": {
             "colorbar": {
              "outlinewidth": 0,
              "ticks": ""
             }
            },
            "type": "scattercarpet"
           }
          ],
          "scattergeo": [
           {
            "marker": {
             "colorbar": {
              "outlinewidth": 0,
              "ticks": ""
             }
            },
            "type": "scattergeo"
           }
          ],
          "scattergl": [
           {
            "marker": {
             "colorbar": {
              "outlinewidth": 0,
              "ticks": ""
             }
            },
            "type": "scattergl"
           }
          ],
          "scattermapbox": [
           {
            "marker": {
             "colorbar": {
              "outlinewidth": 0,
              "ticks": ""
             }
            },
            "type": "scattermapbox"
           }
          ],
          "scatterpolar": [
           {
            "marker": {
             "colorbar": {
              "outlinewidth": 0,
              "ticks": ""
             }
            },
            "type": "scatterpolar"
           }
          ],
          "scatterpolargl": [
           {
            "marker": {
             "colorbar": {
              "outlinewidth": 0,
              "ticks": ""
             }
            },
            "type": "scatterpolargl"
           }
          ],
          "scatterternary": [
           {
            "marker": {
             "colorbar": {
              "outlinewidth": 0,
              "ticks": ""
             }
            },
            "type": "scatterternary"
           }
          ],
          "surface": [
           {
            "colorbar": {
             "outlinewidth": 0,
             "ticks": ""
            },
            "colorscale": [
             [
              0,
              "#0d0887"
             ],
             [
              0.1111111111111111,
              "#46039f"
             ],
             [
              0.2222222222222222,
              "#7201a8"
             ],
             [
              0.3333333333333333,
              "#9c179e"
             ],
             [
              0.4444444444444444,
              "#bd3786"
             ],
             [
              0.5555555555555556,
              "#d8576b"
             ],
             [
              0.6666666666666666,
              "#ed7953"
             ],
             [
              0.7777777777777778,
              "#fb9f3a"
             ],
             [
              0.8888888888888888,
              "#fdca26"
             ],
             [
              1,
              "#f0f921"
             ]
            ],
            "type": "surface"
           }
          ],
          "table": [
           {
            "cells": {
             "fill": {
              "color": "#EBF0F8"
             },
             "line": {
              "color": "white"
             }
            },
            "header": {
             "fill": {
              "color": "#C8D4E3"
             },
             "line": {
              "color": "white"
             }
            },
            "type": "table"
           }
          ]
         },
         "layout": {
          "annotationdefaults": {
           "arrowcolor": "#2a3f5f",
           "arrowhead": 0,
           "arrowwidth": 1
          },
          "autotypenumbers": "strict",
          "coloraxis": {
           "colorbar": {
            "outlinewidth": 0,
            "ticks": ""
           }
          },
          "colorscale": {
           "diverging": [
            [
             0,
             "#8e0152"
            ],
            [
             0.1,
             "#c51b7d"
            ],
            [
             0.2,
             "#de77ae"
            ],
            [
             0.3,
             "#f1b6da"
            ],
            [
             0.4,
             "#fde0ef"
            ],
            [
             0.5,
             "#f7f7f7"
            ],
            [
             0.6,
             "#e6f5d0"
            ],
            [
             0.7,
             "#b8e186"
            ],
            [
             0.8,
             "#7fbc41"
            ],
            [
             0.9,
             "#4d9221"
            ],
            [
             1,
             "#276419"
            ]
           ],
           "sequential": [
            [
             0,
             "#0d0887"
            ],
            [
             0.1111111111111111,
             "#46039f"
            ],
            [
             0.2222222222222222,
             "#7201a8"
            ],
            [
             0.3333333333333333,
             "#9c179e"
            ],
            [
             0.4444444444444444,
             "#bd3786"
            ],
            [
             0.5555555555555556,
             "#d8576b"
            ],
            [
             0.6666666666666666,
             "#ed7953"
            ],
            [
             0.7777777777777778,
             "#fb9f3a"
            ],
            [
             0.8888888888888888,
             "#fdca26"
            ],
            [
             1,
             "#f0f921"
            ]
           ],
           "sequentialminus": [
            [
             0,
             "#0d0887"
            ],
            [
             0.1111111111111111,
             "#46039f"
            ],
            [
             0.2222222222222222,
             "#7201a8"
            ],
            [
             0.3333333333333333,
             "#9c179e"
            ],
            [
             0.4444444444444444,
             "#bd3786"
            ],
            [
             0.5555555555555556,
             "#d8576b"
            ],
            [
             0.6666666666666666,
             "#ed7953"
            ],
            [
             0.7777777777777778,
             "#fb9f3a"
            ],
            [
             0.8888888888888888,
             "#fdca26"
            ],
            [
             1,
             "#f0f921"
            ]
           ]
          },
          "colorway": [
           "#636efa",
           "#EF553B",
           "#00cc96",
           "#ab63fa",
           "#FFA15A",
           "#19d3f3",
           "#FF6692",
           "#B6E880",
           "#FF97FF",
           "#FECB52"
          ],
          "font": {
           "color": "#2a3f5f"
          },
          "geo": {
           "bgcolor": "white",
           "lakecolor": "white",
           "landcolor": "#E5ECF6",
           "showlakes": true,
           "showland": true,
           "subunitcolor": "white"
          },
          "hoverlabel": {
           "align": "left"
          },
          "hovermode": "closest",
          "mapbox": {
           "style": "light"
          },
          "paper_bgcolor": "white",
          "plot_bgcolor": "#E5ECF6",
          "polar": {
           "angularaxis": {
            "gridcolor": "white",
            "linecolor": "white",
            "ticks": ""
           },
           "bgcolor": "#E5ECF6",
           "radialaxis": {
            "gridcolor": "white",
            "linecolor": "white",
            "ticks": ""
           }
          },
          "scene": {
           "xaxis": {
            "backgroundcolor": "#E5ECF6",
            "gridcolor": "white",
            "gridwidth": 2,
            "linecolor": "white",
            "showbackground": true,
            "ticks": "",
            "zerolinecolor": "white"
           },
           "yaxis": {
            "backgroundcolor": "#E5ECF6",
            "gridcolor": "white",
            "gridwidth": 2,
            "linecolor": "white",
            "showbackground": true,
            "ticks": "",
            "zerolinecolor": "white"
           },
           "zaxis": {
            "backgroundcolor": "#E5ECF6",
            "gridcolor": "white",
            "gridwidth": 2,
            "linecolor": "white",
            "showbackground": true,
            "ticks": "",
            "zerolinecolor": "white"
           }
          },
          "shapedefaults": {
           "line": {
            "color": "#2a3f5f"
           }
          },
          "ternary": {
           "aaxis": {
            "gridcolor": "white",
            "linecolor": "white",
            "ticks": ""
           },
           "baxis": {
            "gridcolor": "white",
            "linecolor": "white",
            "ticks": ""
           },
           "bgcolor": "#E5ECF6",
           "caxis": {
            "gridcolor": "white",
            "linecolor": "white",
            "ticks": ""
           }
          },
          "title": {
           "x": 0.05
          },
          "xaxis": {
           "automargin": true,
           "gridcolor": "white",
           "linecolor": "white",
           "ticks": "",
           "title": {
            "standoff": 15
           },
           "zerolinecolor": "white",
           "zerolinewidth": 2
          },
          "yaxis": {
           "automargin": true,
           "gridcolor": "white",
           "linecolor": "white",
           "ticks": "",
           "title": {
            "standoff": 15
           },
           "zerolinecolor": "white",
           "zerolinewidth": 2
          }
         }
        },
        "title": {
         "text": "Top 10 Hashtags"
        },
        "width": 600
       }
      }
     },
     "metadata": {},
     "output_type": "display_data"
    }
   ],
   "source": [
    "# Diagramme circulaire interactif pour les hashtags\n",
    "fig_hashtags = px.pie(top_hashtags.head(top_number_hashtags), \n",
    "                      width=600,\n",
    "                      height=500,\n",
    "                      values='Count', \n",
    "                      names='Hashtag', \n",
    "                      title='Top 10 Hashtags',\n",
    "                      color_discrete_sequence=px.colors.sequential.RdBu)\n",
    "fig_hashtags.show()\n"
   ]
  },
  {
   "cell_type": "code",
   "execution_count": 51,
   "metadata": {},
   "outputs": [
    {
     "data": {
      "application/vnd.plotly.v1+json": {
       "config": {
        "plotlyServerURL": "https://plot.ly"
       },
       "data": [
        {
         "domain": {
          "x": [
           0,
           1
          ],
          "y": [
           0,
           1
          ]
         },
         "hovertemplate": "Mention=%{label}<br>Count=%{value}<extra></extra>",
         "labels": [
          "@openai",
          "@elonmusk",
          "@google",
          "@microsoft",
          "@sama",
          "@youtube",
          "@bing",
          "@khulood_almani",
          "@nicochan33",
          "@betamoroney"
         ],
         "legendgroup": "",
         "name": "",
         "showlegend": true,
         "type": "pie",
         "values": [
          10540,
          2997,
          1638,
          1480,
          1248,
          893,
          706,
          416,
          386,
          332
         ]
        }
       ],
       "layout": {
        "height": 500,
        "legend": {
         "tracegroupgap": 0
        },
        "piecolorway": [
         "rgb(8,48,107)",
         "rgb(8,81,156)",
         "rgb(33,113,181)",
         "rgb(66,146,198)",
         "rgb(107,174,214)",
         "rgb(158,202,225)",
         "rgb(198,219,239)",
         "rgb(222,235,247)",
         "rgb(247,251,255)"
        ],
        "template": {
         "data": {
          "bar": [
           {
            "error_x": {
             "color": "#2a3f5f"
            },
            "error_y": {
             "color": "#2a3f5f"
            },
            "marker": {
             "line": {
              "color": "#E5ECF6",
              "width": 0.5
             },
             "pattern": {
              "fillmode": "overlay",
              "size": 10,
              "solidity": 0.2
             }
            },
            "type": "bar"
           }
          ],
          "barpolar": [
           {
            "marker": {
             "line": {
              "color": "#E5ECF6",
              "width": 0.5
             },
             "pattern": {
              "fillmode": "overlay",
              "size": 10,
              "solidity": 0.2
             }
            },
            "type": "barpolar"
           }
          ],
          "carpet": [
           {
            "aaxis": {
             "endlinecolor": "#2a3f5f",
             "gridcolor": "white",
             "linecolor": "white",
             "minorgridcolor": "white",
             "startlinecolor": "#2a3f5f"
            },
            "baxis": {
             "endlinecolor": "#2a3f5f",
             "gridcolor": "white",
             "linecolor": "white",
             "minorgridcolor": "white",
             "startlinecolor": "#2a3f5f"
            },
            "type": "carpet"
           }
          ],
          "choropleth": [
           {
            "colorbar": {
             "outlinewidth": 0,
             "ticks": ""
            },
            "type": "choropleth"
           }
          ],
          "contour": [
           {
            "colorbar": {
             "outlinewidth": 0,
             "ticks": ""
            },
            "colorscale": [
             [
              0,
              "#0d0887"
             ],
             [
              0.1111111111111111,
              "#46039f"
             ],
             [
              0.2222222222222222,
              "#7201a8"
             ],
             [
              0.3333333333333333,
              "#9c179e"
             ],
             [
              0.4444444444444444,
              "#bd3786"
             ],
             [
              0.5555555555555556,
              "#d8576b"
             ],
             [
              0.6666666666666666,
              "#ed7953"
             ],
             [
              0.7777777777777778,
              "#fb9f3a"
             ],
             [
              0.8888888888888888,
              "#fdca26"
             ],
             [
              1,
              "#f0f921"
             ]
            ],
            "type": "contour"
           }
          ],
          "contourcarpet": [
           {
            "colorbar": {
             "outlinewidth": 0,
             "ticks": ""
            },
            "type": "contourcarpet"
           }
          ],
          "heatmap": [
           {
            "colorbar": {
             "outlinewidth": 0,
             "ticks": ""
            },
            "colorscale": [
             [
              0,
              "#0d0887"
             ],
             [
              0.1111111111111111,
              "#46039f"
             ],
             [
              0.2222222222222222,
              "#7201a8"
             ],
             [
              0.3333333333333333,
              "#9c179e"
             ],
             [
              0.4444444444444444,
              "#bd3786"
             ],
             [
              0.5555555555555556,
              "#d8576b"
             ],
             [
              0.6666666666666666,
              "#ed7953"
             ],
             [
              0.7777777777777778,
              "#fb9f3a"
             ],
             [
              0.8888888888888888,
              "#fdca26"
             ],
             [
              1,
              "#f0f921"
             ]
            ],
            "type": "heatmap"
           }
          ],
          "heatmapgl": [
           {
            "colorbar": {
             "outlinewidth": 0,
             "ticks": ""
            },
            "colorscale": [
             [
              0,
              "#0d0887"
             ],
             [
              0.1111111111111111,
              "#46039f"
             ],
             [
              0.2222222222222222,
              "#7201a8"
             ],
             [
              0.3333333333333333,
              "#9c179e"
             ],
             [
              0.4444444444444444,
              "#bd3786"
             ],
             [
              0.5555555555555556,
              "#d8576b"
             ],
             [
              0.6666666666666666,
              "#ed7953"
             ],
             [
              0.7777777777777778,
              "#fb9f3a"
             ],
             [
              0.8888888888888888,
              "#fdca26"
             ],
             [
              1,
              "#f0f921"
             ]
            ],
            "type": "heatmapgl"
           }
          ],
          "histogram": [
           {
            "marker": {
             "pattern": {
              "fillmode": "overlay",
              "size": 10,
              "solidity": 0.2
             }
            },
            "type": "histogram"
           }
          ],
          "histogram2d": [
           {
            "colorbar": {
             "outlinewidth": 0,
             "ticks": ""
            },
            "colorscale": [
             [
              0,
              "#0d0887"
             ],
             [
              0.1111111111111111,
              "#46039f"
             ],
             [
              0.2222222222222222,
              "#7201a8"
             ],
             [
              0.3333333333333333,
              "#9c179e"
             ],
             [
              0.4444444444444444,
              "#bd3786"
             ],
             [
              0.5555555555555556,
              "#d8576b"
             ],
             [
              0.6666666666666666,
              "#ed7953"
             ],
             [
              0.7777777777777778,
              "#fb9f3a"
             ],
             [
              0.8888888888888888,
              "#fdca26"
             ],
             [
              1,
              "#f0f921"
             ]
            ],
            "type": "histogram2d"
           }
          ],
          "histogram2dcontour": [
           {
            "colorbar": {
             "outlinewidth": 0,
             "ticks": ""
            },
            "colorscale": [
             [
              0,
              "#0d0887"
             ],
             [
              0.1111111111111111,
              "#46039f"
             ],
             [
              0.2222222222222222,
              "#7201a8"
             ],
             [
              0.3333333333333333,
              "#9c179e"
             ],
             [
              0.4444444444444444,
              "#bd3786"
             ],
             [
              0.5555555555555556,
              "#d8576b"
             ],
             [
              0.6666666666666666,
              "#ed7953"
             ],
             [
              0.7777777777777778,
              "#fb9f3a"
             ],
             [
              0.8888888888888888,
              "#fdca26"
             ],
             [
              1,
              "#f0f921"
             ]
            ],
            "type": "histogram2dcontour"
           }
          ],
          "mesh3d": [
           {
            "colorbar": {
             "outlinewidth": 0,
             "ticks": ""
            },
            "type": "mesh3d"
           }
          ],
          "parcoords": [
           {
            "line": {
             "colorbar": {
              "outlinewidth": 0,
              "ticks": ""
             }
            },
            "type": "parcoords"
           }
          ],
          "pie": [
           {
            "automargin": true,
            "type": "pie"
           }
          ],
          "scatter": [
           {
            "fillpattern": {
             "fillmode": "overlay",
             "size": 10,
             "solidity": 0.2
            },
            "type": "scatter"
           }
          ],
          "scatter3d": [
           {
            "line": {
             "colorbar": {
              "outlinewidth": 0,
              "ticks": ""
             }
            },
            "marker": {
             "colorbar": {
              "outlinewidth": 0,
              "ticks": ""
             }
            },
            "type": "scatter3d"
           }
          ],
          "scattercarpet": [
           {
            "marker": {
             "colorbar": {
              "outlinewidth": 0,
              "ticks": ""
             }
            },
            "type": "scattercarpet"
           }
          ],
          "scattergeo": [
           {
            "marker": {
             "colorbar": {
              "outlinewidth": 0,
              "ticks": ""
             }
            },
            "type": "scattergeo"
           }
          ],
          "scattergl": [
           {
            "marker": {
             "colorbar": {
              "outlinewidth": 0,
              "ticks": ""
             }
            },
            "type": "scattergl"
           }
          ],
          "scattermapbox": [
           {
            "marker": {
             "colorbar": {
              "outlinewidth": 0,
              "ticks": ""
             }
            },
            "type": "scattermapbox"
           }
          ],
          "scatterpolar": [
           {
            "marker": {
             "colorbar": {
              "outlinewidth": 0,
              "ticks": ""
             }
            },
            "type": "scatterpolar"
           }
          ],
          "scatterpolargl": [
           {
            "marker": {
             "colorbar": {
              "outlinewidth": 0,
              "ticks": ""
             }
            },
            "type": "scatterpolargl"
           }
          ],
          "scatterternary": [
           {
            "marker": {
             "colorbar": {
              "outlinewidth": 0,
              "ticks": ""
             }
            },
            "type": "scatterternary"
           }
          ],
          "surface": [
           {
            "colorbar": {
             "outlinewidth": 0,
             "ticks": ""
            },
            "colorscale": [
             [
              0,
              "#0d0887"
             ],
             [
              0.1111111111111111,
              "#46039f"
             ],
             [
              0.2222222222222222,
              "#7201a8"
             ],
             [
              0.3333333333333333,
              "#9c179e"
             ],
             [
              0.4444444444444444,
              "#bd3786"
             ],
             [
              0.5555555555555556,
              "#d8576b"
             ],
             [
              0.6666666666666666,
              "#ed7953"
             ],
             [
              0.7777777777777778,
              "#fb9f3a"
             ],
             [
              0.8888888888888888,
              "#fdca26"
             ],
             [
              1,
              "#f0f921"
             ]
            ],
            "type": "surface"
           }
          ],
          "table": [
           {
            "cells": {
             "fill": {
              "color": "#EBF0F8"
             },
             "line": {
              "color": "white"
             }
            },
            "header": {
             "fill": {
              "color": "#C8D4E3"
             },
             "line": {
              "color": "white"
             }
            },
            "type": "table"
           }
          ]
         },
         "layout": {
          "annotationdefaults": {
           "arrowcolor": "#2a3f5f",
           "arrowhead": 0,
           "arrowwidth": 1
          },
          "autotypenumbers": "strict",
          "coloraxis": {
           "colorbar": {
            "outlinewidth": 0,
            "ticks": ""
           }
          },
          "colorscale": {
           "diverging": [
            [
             0,
             "#8e0152"
            ],
            [
             0.1,
             "#c51b7d"
            ],
            [
             0.2,
             "#de77ae"
            ],
            [
             0.3,
             "#f1b6da"
            ],
            [
             0.4,
             "#fde0ef"
            ],
            [
             0.5,
             "#f7f7f7"
            ],
            [
             0.6,
             "#e6f5d0"
            ],
            [
             0.7,
             "#b8e186"
            ],
            [
             0.8,
             "#7fbc41"
            ],
            [
             0.9,
             "#4d9221"
            ],
            [
             1,
             "#276419"
            ]
           ],
           "sequential": [
            [
             0,
             "#0d0887"
            ],
            [
             0.1111111111111111,
             "#46039f"
            ],
            [
             0.2222222222222222,
             "#7201a8"
            ],
            [
             0.3333333333333333,
             "#9c179e"
            ],
            [
             0.4444444444444444,
             "#bd3786"
            ],
            [
             0.5555555555555556,
             "#d8576b"
            ],
            [
             0.6666666666666666,
             "#ed7953"
            ],
            [
             0.7777777777777778,
             "#fb9f3a"
            ],
            [
             0.8888888888888888,
             "#fdca26"
            ],
            [
             1,
             "#f0f921"
            ]
           ],
           "sequentialminus": [
            [
             0,
             "#0d0887"
            ],
            [
             0.1111111111111111,
             "#46039f"
            ],
            [
             0.2222222222222222,
             "#7201a8"
            ],
            [
             0.3333333333333333,
             "#9c179e"
            ],
            [
             0.4444444444444444,
             "#bd3786"
            ],
            [
             0.5555555555555556,
             "#d8576b"
            ],
            [
             0.6666666666666666,
             "#ed7953"
            ],
            [
             0.7777777777777778,
             "#fb9f3a"
            ],
            [
             0.8888888888888888,
             "#fdca26"
            ],
            [
             1,
             "#f0f921"
            ]
           ]
          },
          "colorway": [
           "#636efa",
           "#EF553B",
           "#00cc96",
           "#ab63fa",
           "#FFA15A",
           "#19d3f3",
           "#FF6692",
           "#B6E880",
           "#FF97FF",
           "#FECB52"
          ],
          "font": {
           "color": "#2a3f5f"
          },
          "geo": {
           "bgcolor": "white",
           "lakecolor": "white",
           "landcolor": "#E5ECF6",
           "showlakes": true,
           "showland": true,
           "subunitcolor": "white"
          },
          "hoverlabel": {
           "align": "left"
          },
          "hovermode": "closest",
          "mapbox": {
           "style": "light"
          },
          "paper_bgcolor": "white",
          "plot_bgcolor": "#E5ECF6",
          "polar": {
           "angularaxis": {
            "gridcolor": "white",
            "linecolor": "white",
            "ticks": ""
           },
           "bgcolor": "#E5ECF6",
           "radialaxis": {
            "gridcolor": "white",
            "linecolor": "white",
            "ticks": ""
           }
          },
          "scene": {
           "xaxis": {
            "backgroundcolor": "#E5ECF6",
            "gridcolor": "white",
            "gridwidth": 2,
            "linecolor": "white",
            "showbackground": true,
            "ticks": "",
            "zerolinecolor": "white"
           },
           "yaxis": {
            "backgroundcolor": "#E5ECF6",
            "gridcolor": "white",
            "gridwidth": 2,
            "linecolor": "white",
            "showbackground": true,
            "ticks": "",
            "zerolinecolor": "white"
           },
           "zaxis": {
            "backgroundcolor": "#E5ECF6",
            "gridcolor": "white",
            "gridwidth": 2,
            "linecolor": "white",
            "showbackground": true,
            "ticks": "",
            "zerolinecolor": "white"
           }
          },
          "shapedefaults": {
           "line": {
            "color": "#2a3f5f"
           }
          },
          "ternary": {
           "aaxis": {
            "gridcolor": "white",
            "linecolor": "white",
            "ticks": ""
           },
           "baxis": {
            "gridcolor": "white",
            "linecolor": "white",
            "ticks": ""
           },
           "bgcolor": "#E5ECF6",
           "caxis": {
            "gridcolor": "white",
            "linecolor": "white",
            "ticks": ""
           }
          },
          "title": {
           "x": 0.05
          },
          "xaxis": {
           "automargin": true,
           "gridcolor": "white",
           "linecolor": "white",
           "ticks": "",
           "title": {
            "standoff": 15
           },
           "zerolinecolor": "white",
           "zerolinewidth": 2
          },
          "yaxis": {
           "automargin": true,
           "gridcolor": "white",
           "linecolor": "white",
           "ticks": "",
           "title": {
            "standoff": 15
           },
           "zerolinecolor": "white",
           "zerolinewidth": 2
          }
         }
        },
        "title": {
         "text": "Top 10 Mentions"
        },
        "width": 600
       }
      }
     },
     "metadata": {},
     "output_type": "display_data"
    }
   ],
   "source": [
    "# Diagramme circulaire interactif pour les mentions d’utilisateurs\n",
    "fig_mentions = px.pie(top_mentions.head(top_number_mentions), \n",
    "                      width=600,\n",
    "                      height=500,\n",
    "                      values='Count', \n",
    "                      names='Mention', \n",
    "                      title='Top 10 Mentions',\n",
    "                      color_discrete_sequence=px.colors.sequential.Blues_r)\n",
    "fig_mentions.show()"
   ]
  }
 ],
 "metadata": {
  "kernelspec": {
   "display_name": "env",
   "language": "python",
   "name": "python3"
  },
  "language_info": {
   "codemirror_mode": {
    "name": "ipython",
    "version": 3
   },
   "file_extension": ".py",
   "mimetype": "text/x-python",
   "name": "python",
   "nbconvert_exporter": "python",
   "pygments_lexer": "ipython3",
   "version": "3.11.7"
  }
 },
 "nbformat": 4,
 "nbformat_minor": 2
}
